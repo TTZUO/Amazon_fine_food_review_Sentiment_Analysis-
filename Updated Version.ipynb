{
 "cells": [
  {
   "cell_type": "markdown",
   "metadata": {},
   "source": [
    "## Updated Version"
   ]
  },
  {
   "cell_type": "code",
   "execution_count": 1,
   "metadata": {},
   "outputs": [],
   "source": [
    "# import python libraries\n",
    "%matplotlib inline\n",
    "import warnings\n",
    "warnings.filterwarnings(\"ignore\")\n",
    "\n",
    "import pandas as pd\n",
    "import numpy as np\n",
    "from sklearn.model_selection import train_test_split\n",
    "import re\n",
    "from nltk.stem import SnowballStemmer \n",
    "import seaborn as sns\n",
    "import matplotlib.pyplot as plt\n",
    "\n",
    "# load the LinearRegression() function from sklearn's 'linear_model' sub-library\n",
    "from sklearn.linear_model import LogisticRegression\n",
    "# load the cross_val_score function from the sklearn.model_selection module\n",
    "from sklearn.model_selection import cross_val_score\n",
    "from sklearn.feature_extraction.text import CountVectorizer\n",
    "from sklearn.feature_extraction.text import TfidfVectorizer\n",
    "from sklearn.metrics import classification_report\n",
    "\n",
    "from sklearn.ensemble import RandomForestClassifier\n",
    "\n",
    "from nltk.corpus import stopwords  \n",
    "from sklearn.neighbors import KNeighborsClassifier\n",
    "from sklearn.naive_bayes import MultinomialNB\n",
    "from sklearn.metrics import roc_auc_score\n",
    "from sklearn import metrics\n",
    "from sklearn.metrics import roc_curve, auc\n",
    "from sklearn.metrics import accuracy_score, precision_score,recall_score, f1_score,confusion_matrix"
   ]
  },
  {
   "cell_type": "code",
   "execution_count": 2,
   "metadata": {},
   "outputs": [],
   "source": [
    "pd.set_option('display.max_rows', None)\n",
    "pd.set_option('max_colwidth',100)"
   ]
  },
  {
   "cell_type": "code",
   "execution_count": 3,
   "metadata": {},
   "outputs": [
    {
     "data": {
      "text/html": [
       "<div>\n",
       "<style scoped>\n",
       "    .dataframe tbody tr th:only-of-type {\n",
       "        vertical-align: middle;\n",
       "    }\n",
       "\n",
       "    .dataframe tbody tr th {\n",
       "        vertical-align: top;\n",
       "    }\n",
       "\n",
       "    .dataframe thead th {\n",
       "        text-align: right;\n",
       "    }\n",
       "</style>\n",
       "<table border=\"1\" class=\"dataframe\">\n",
       "  <thead>\n",
       "    <tr style=\"text-align: right;\">\n",
       "      <th></th>\n",
       "      <th>Id</th>\n",
       "      <th>ProductId</th>\n",
       "      <th>UserId</th>\n",
       "      <th>ProfileName</th>\n",
       "      <th>HelpfulnessNumerator</th>\n",
       "      <th>HelpfulnessDenominator</th>\n",
       "      <th>Score</th>\n",
       "      <th>Time</th>\n",
       "      <th>Summary</th>\n",
       "      <th>Text</th>\n",
       "    </tr>\n",
       "  </thead>\n",
       "  <tbody>\n",
       "    <tr>\n",
       "      <th>0</th>\n",
       "      <td>1</td>\n",
       "      <td>B001E4KFG0</td>\n",
       "      <td>A3SGXH7AUHU8GW</td>\n",
       "      <td>delmartian</td>\n",
       "      <td>1</td>\n",
       "      <td>1</td>\n",
       "      <td>5</td>\n",
       "      <td>1303862400</td>\n",
       "      <td>Good Quality Dog Food</td>\n",
       "      <td>I have bought several of the Vitality canned dog food products and have found them all to be of ...</td>\n",
       "    </tr>\n",
       "    <tr>\n",
       "      <th>1</th>\n",
       "      <td>2</td>\n",
       "      <td>B00813GRG4</td>\n",
       "      <td>A1D87F6ZCVE5NK</td>\n",
       "      <td>dll pa</td>\n",
       "      <td>0</td>\n",
       "      <td>0</td>\n",
       "      <td>1</td>\n",
       "      <td>1346976000</td>\n",
       "      <td>Not as Advertised</td>\n",
       "      <td>Product arrived labeled as Jumbo Salted Peanuts...the peanuts were actually small sized unsalted...</td>\n",
       "    </tr>\n",
       "    <tr>\n",
       "      <th>2</th>\n",
       "      <td>3</td>\n",
       "      <td>B000LQOCH0</td>\n",
       "      <td>ABXLMWJIXXAIN</td>\n",
       "      <td>Natalia Corres \"Natalia Corres\"</td>\n",
       "      <td>1</td>\n",
       "      <td>1</td>\n",
       "      <td>4</td>\n",
       "      <td>1219017600</td>\n",
       "      <td>\"Delight\" says it all</td>\n",
       "      <td>This is a confection that has been around a few centuries.  It is a light, pillowy citrus gelati...</td>\n",
       "    </tr>\n",
       "    <tr>\n",
       "      <th>3</th>\n",
       "      <td>4</td>\n",
       "      <td>B000UA0QIQ</td>\n",
       "      <td>A395BORC6FGVXV</td>\n",
       "      <td>Karl</td>\n",
       "      <td>3</td>\n",
       "      <td>3</td>\n",
       "      <td>2</td>\n",
       "      <td>1307923200</td>\n",
       "      <td>Cough Medicine</td>\n",
       "      <td>If you are looking for the secret ingredient in Robitussin I believe I have found it.  I got thi...</td>\n",
       "    </tr>\n",
       "    <tr>\n",
       "      <th>4</th>\n",
       "      <td>5</td>\n",
       "      <td>B006K2ZZ7K</td>\n",
       "      <td>A1UQRSCLF8GW1T</td>\n",
       "      <td>Michael D. Bigham \"M. Wassir\"</td>\n",
       "      <td>0</td>\n",
       "      <td>0</td>\n",
       "      <td>5</td>\n",
       "      <td>1350777600</td>\n",
       "      <td>Great taffy</td>\n",
       "      <td>Great taffy at a great price.  There was a wide assortment of yummy taffy.  Delivery was very qu...</td>\n",
       "    </tr>\n",
       "  </tbody>\n",
       "</table>\n",
       "</div>"
      ],
      "text/plain": [
       "   Id   ProductId          UserId                      ProfileName  \\\n",
       "0   1  B001E4KFG0  A3SGXH7AUHU8GW                       delmartian   \n",
       "1   2  B00813GRG4  A1D87F6ZCVE5NK                           dll pa   \n",
       "2   3  B000LQOCH0   ABXLMWJIXXAIN  Natalia Corres \"Natalia Corres\"   \n",
       "3   4  B000UA0QIQ  A395BORC6FGVXV                             Karl   \n",
       "4   5  B006K2ZZ7K  A1UQRSCLF8GW1T    Michael D. Bigham \"M. Wassir\"   \n",
       "\n",
       "   HelpfulnessNumerator  HelpfulnessDenominator  Score        Time  \\\n",
       "0                     1                       1      5  1303862400   \n",
       "1                     0                       0      1  1346976000   \n",
       "2                     1                       1      4  1219017600   \n",
       "3                     3                       3      2  1307923200   \n",
       "4                     0                       0      5  1350777600   \n",
       "\n",
       "                 Summary  \\\n",
       "0  Good Quality Dog Food   \n",
       "1      Not as Advertised   \n",
       "2  \"Delight\" says it all   \n",
       "3         Cough Medicine   \n",
       "4            Great taffy   \n",
       "\n",
       "                                                                                                  Text  \n",
       "0  I have bought several of the Vitality canned dog food products and have found them all to be of ...  \n",
       "1  Product arrived labeled as Jumbo Salted Peanuts...the peanuts were actually small sized unsalted...  \n",
       "2  This is a confection that has been around a few centuries.  It is a light, pillowy citrus gelati...  \n",
       "3  If you are looking for the secret ingredient in Robitussin I believe I have found it.  I got thi...  \n",
       "4  Great taffy at a great price.  There was a wide assortment of yummy taffy.  Delivery was very qu...  "
      ]
     },
     "execution_count": 3,
     "metadata": {},
     "output_type": "execute_result"
    }
   ],
   "source": [
    "df = pd.read_csv('Reviews.csv')\n",
    "df.head(5)"
   ]
  },
  {
   "cell_type": "code",
   "execution_count": 4,
   "metadata": {},
   "outputs": [
    {
     "name": "stdout",
     "output_type": "stream",
     "text": [
      "<class 'pandas.core.frame.DataFrame'>\n",
      "RangeIndex: 568454 entries, 0 to 568453\n",
      "Data columns (total 10 columns):\n",
      "Id                        568454 non-null int64\n",
      "ProductId                 568454 non-null object\n",
      "UserId                    568454 non-null object\n",
      "ProfileName               568438 non-null object\n",
      "HelpfulnessNumerator      568454 non-null int64\n",
      "HelpfulnessDenominator    568454 non-null int64\n",
      "Score                     568454 non-null int64\n",
      "Time                      568454 non-null int64\n",
      "Summary                   568427 non-null object\n",
      "Text                      568454 non-null object\n",
      "dtypes: int64(5), object(5)\n",
      "memory usage: 43.4+ MB\n"
     ]
    }
   ],
   "source": [
    "df.info()"
   ]
  },
  {
   "cell_type": "code",
   "execution_count": 5,
   "metadata": {},
   "outputs": [],
   "source": [
    "df = df[df['HelpfulnessNumerator'] <= df['HelpfulnessDenominator']]"
   ]
  },
  {
   "cell_type": "code",
   "execution_count": 6,
   "metadata": {},
   "outputs": [
    {
     "name": "stdout",
     "output_type": "stream",
     "text": [
      "<class 'pandas.core.frame.DataFrame'>\n",
      "Int64Index: 568452 entries, 0 to 568453\n",
      "Data columns (total 10 columns):\n",
      "Id                        568452 non-null int64\n",
      "ProductId                 568452 non-null object\n",
      "UserId                    568452 non-null object\n",
      "ProfileName               568436 non-null object\n",
      "HelpfulnessNumerator      568452 non-null int64\n",
      "HelpfulnessDenominator    568452 non-null int64\n",
      "Score                     568452 non-null int64\n",
      "Time                      568452 non-null int64\n",
      "Summary                   568425 non-null object\n",
      "Text                      568452 non-null object\n",
      "dtypes: int64(5), object(5)\n",
      "memory usage: 47.7+ MB\n"
     ]
    }
   ],
   "source": [
    "df.info()"
   ]
  },
  {
   "cell_type": "code",
   "execution_count": 7,
   "metadata": {},
   "outputs": [
    {
     "data": {
      "text/plain": [
       "(568452, 10)"
      ]
     },
     "execution_count": 7,
     "metadata": {},
     "output_type": "execute_result"
    }
   ],
   "source": [
    "df.shape"
   ]
  },
  {
   "cell_type": "code",
   "execution_count": 8,
   "metadata": {},
   "outputs": [
    {
     "data": {
      "text/plain": [
       "Id                        568452\n",
       "ProductId                  74258\n",
       "UserId                    256059\n",
       "ProfileName               218416\n",
       "HelpfulnessNumerator         231\n",
       "HelpfulnessDenominator       234\n",
       "Score                          5\n",
       "Time                        3168\n",
       "Summary                   295741\n",
       "Text                      393577\n",
       "dtype: int64"
      ]
     },
     "execution_count": 8,
     "metadata": {},
     "output_type": "execute_result"
    }
   ],
   "source": [
    "df.nunique()"
   ]
  },
  {
   "cell_type": "code",
   "execution_count": 9,
   "metadata": {},
   "outputs": [],
   "source": [
    "# rename columns\n",
    "df.columns = [\"Id\", \"ProductId\", \"UserId\", \"ProfileName\", \"VotesHelpful\",\n",
    "              \"VotesTotal\", \"Score\", \"Time\", \"Summary\", \"Text\"]"
   ]
  },
  {
   "cell_type": "code",
   "execution_count": 10,
   "metadata": {},
   "outputs": [],
   "source": [
    "def score_sentiment(score):\n",
    "    # Replace scores of 1,2 with negative and 4,5 with positive\n",
    "    if(score < 3):\n",
    "        return 0\n",
    "    else:\n",
    "        return 1\n",
    "df[\"Sentiment\"] = df.Score.apply(score_sentiment)   "
   ]
  },
  {
   "cell_type": "code",
   "execution_count": 11,
   "metadata": {},
   "outputs": [
    {
     "data": {
      "text/plain": [
       "1    486415\n",
       "0     82037\n",
       "Name: Sentiment, dtype: int64"
      ]
     },
     "execution_count": 11,
     "metadata": {},
     "output_type": "execute_result"
    }
   ],
   "source": [
    "df1 = df\n",
    "df1[\"Sentiment\"].value_counts()"
   ]
  },
  {
   "cell_type": "code",
   "execution_count": 12,
   "metadata": {},
   "outputs": [],
   "source": [
    "import re\n",
    "from nltk.stem import SnowballStemmer \n",
    "snow = SnowballStemmer('english') \n",
    "\n",
    "def cleanup(sentence):\n",
    "    sentence = str(sentence)\n",
    "    sentence = sentence.lower() # lower case\n",
    "    sentence = re.sub(r'[?|!|.|,|)|(|\\|/]',r' ',sentence) # replace these punctuation with space\n",
    "    tokens = sentence.split()\n",
    "    out = []\n",
    "    for t in tokens:\n",
    "        out.append(snow.stem(t))\n",
    "    out = \" \".join(out)\n",
    "    out = re.sub(r'[\\'|\"|#]', r'', out) # remove these punctuation\n",
    "    return out    "
   ]
  },
  {
   "cell_type": "code",
   "execution_count": 13,
   "metadata": {},
   "outputs": [
    {
     "data": {
      "text/plain": [
       "0    i have bought sever of the vital can dog food product and have found them all to be of good qual...\n",
       "1    product arriv label as jumbo salt peanut the peanut were actual small size unsalt not sure if th...\n",
       "2    this is a confect that has been around a few centuri it is a light pillowi citrus gelatin with n...\n",
       "3    if you are look for the secret ingredi in robitussin i believ i have found it i got this in addi...\n",
       "4    great taffi at a great price there was a wide assort of yummi taffi deliveri was veri quick if y...\n",
       "Name: Cleaned_text, dtype: object"
      ]
     },
     "execution_count": 13,
     "metadata": {},
     "output_type": "execute_result"
    }
   ],
   "source": [
    "df1[\"Cleaned_text\"] = df1['Text'].apply(cleanup)\n",
    "df1[\"Cleaned_text\"].head()"
   ]
  },
  {
   "cell_type": "code",
   "execution_count": 14,
   "metadata": {},
   "outputs": [
    {
     "data": {
      "text/plain": [
       "Text(0.5, 1.0, 'Bar plot of sentiments')"
      ]
     },
     "execution_count": 14,
     "metadata": {},
     "output_type": "execute_result"
    },
    {
     "data": {
      "image/png": "[encoded data removed]",
      "text/plain": [
       "<Figure size 576x360 with 1 Axes>"
      ]
     },
     "metadata": {
      "needs_background": "light"
     },
     "output_type": "display_data"
    }
   ],
   "source": [
    "plt.figure(figsize = (8,5))\n",
    "sns.countplot(df['Score'])\n",
    "plt.title(\"Bar plot of sentiments\")"
   ]
  },
  {
   "cell_type": "code",
   "execution_count": 15,
   "metadata": {},
   "outputs": [
    {
     "data": {
      "text/plain": [
       "<matplotlib.axes._subplots.AxesSubplot at 0x7f967085d550>"
      ]
     },
     "execution_count": 15,
     "metadata": {},
     "output_type": "execute_result"
    },
    {
     "data": {
      "image/png": "[encoded data removed]",
      "text/plain": [
       "<Figure size 720x576 with 2 Axes>"
      ]
     },
     "metadata": {
      "needs_background": "light"
     },
     "output_type": "display_data"
    }
   ],
   "source": [
    "# set figure size\n",
    "plt.figure(figsize=(10,8))\n",
    "# give corr value to co\n",
    "co = df.corr()\n",
    "# use seaborn to generate heatmap\n",
    "sns.heatmap(co, annot=True)"
   ]
  },
  {
   "cell_type": "code",
   "execution_count": 16,
   "metadata": {},
   "outputs": [
    {
     "data": {
      "text/html": [
       "<div>\n",
       "<style scoped>\n",
       "    .dataframe tbody tr th:only-of-type {\n",
       "        vertical-align: middle;\n",
       "    }\n",
       "\n",
       "    .dataframe tbody tr th {\n",
       "        vertical-align: top;\n",
       "    }\n",
       "\n",
       "    .dataframe thead th {\n",
       "        text-align: right;\n",
       "    }\n",
       "</style>\n",
       "<table border=\"1\" class=\"dataframe\">\n",
       "  <thead>\n",
       "    <tr style=\"text-align: right;\">\n",
       "      <th></th>\n",
       "      <th>Summary</th>\n",
       "      <th>Cleaned_text</th>\n",
       "      <th>Sentiment</th>\n",
       "    </tr>\n",
       "  </thead>\n",
       "  <tbody>\n",
       "    <tr>\n",
       "      <th>0</th>\n",
       "      <td>Good Quality Dog Food</td>\n",
       "      <td>i have bought sever of the vital can dog food product and have found them all to be of good qual...</td>\n",
       "      <td>1</td>\n",
       "    </tr>\n",
       "    <tr>\n",
       "      <th>4</th>\n",
       "      <td>Great taffy</td>\n",
       "      <td>great taffi at a great price there was a wide assort of yummi taffi deliveri was veri quick if y...</td>\n",
       "      <td>1</td>\n",
       "    </tr>\n",
       "    <tr>\n",
       "      <th>6</th>\n",
       "      <td>Great!  Just as good as the expensive brands!</td>\n",
       "      <td>this saltwat taffi had great flavor and was veri soft and chewi each candi was individu wrap wel...</td>\n",
       "      <td>1</td>\n",
       "    </tr>\n",
       "    <tr>\n",
       "      <th>7</th>\n",
       "      <td>Wonderful, tasty taffy</td>\n",
       "      <td>this taffi is so good it is veri soft and chewi the flavor are amaz i would definit recommend yo...</td>\n",
       "      <td>1</td>\n",
       "    </tr>\n",
       "    <tr>\n",
       "      <th>8</th>\n",
       "      <td>Yay Barley</td>\n",
       "      <td>right now im most just sprout this so my cat can eat the grass they love it i rotat it around wi...</td>\n",
       "      <td>1</td>\n",
       "    </tr>\n",
       "  </tbody>\n",
       "</table>\n",
       "</div>"
      ],
      "text/plain": [
       "                                         Summary  \\\n",
       "0                          Good Quality Dog Food   \n",
       "4                                    Great taffy   \n",
       "6  Great!  Just as good as the expensive brands!   \n",
       "7                         Wonderful, tasty taffy   \n",
       "8                                     Yay Barley   \n",
       "\n",
       "                                                                                          Cleaned_text  \\\n",
       "0  i have bought sever of the vital can dog food product and have found them all to be of good qual...   \n",
       "4  great taffi at a great price there was a wide assort of yummi taffi deliveri was veri quick if y...   \n",
       "6  this saltwat taffi had great flavor and was veri soft and chewi each candi was individu wrap wel...   \n",
       "7  this taffi is so good it is veri soft and chewi the flavor are amaz i would definit recommend yo...   \n",
       "8  right now im most just sprout this so my cat can eat the grass they love it i rotat it around wi...   \n",
       "\n",
       "   Sentiment  \n",
       "0          1  \n",
       "4          1  \n",
       "6          1  \n",
       "7          1  \n",
       "8          1  "
      ]
     },
     "execution_count": 16,
     "metadata": {},
     "output_type": "execute_result"
    }
   ],
   "source": [
    "df1[df1['Score']==5][['Summary','Cleaned_text','Sentiment']].head(5)"
   ]
  },
  {
   "cell_type": "code",
   "execution_count": 17,
   "metadata": {},
   "outputs": [
    {
     "data": {
      "text/html": [
       "<div>\n",
       "<style scoped>\n",
       "    .dataframe tbody tr th:only-of-type {\n",
       "        vertical-align: middle;\n",
       "    }\n",
       "\n",
       "    .dataframe tbody tr th {\n",
       "        vertical-align: top;\n",
       "    }\n",
       "\n",
       "    .dataframe thead th {\n",
       "        text-align: right;\n",
       "    }\n",
       "</style>\n",
       "<table border=\"1\" class=\"dataframe\">\n",
       "  <thead>\n",
       "    <tr style=\"text-align: right;\">\n",
       "      <th></th>\n",
       "      <th>Summary</th>\n",
       "      <th>Cleaned_text</th>\n",
       "      <th>Sentiment</th>\n",
       "    </tr>\n",
       "  </thead>\n",
       "  <tbody>\n",
       "    <tr>\n",
       "      <th>1</th>\n",
       "      <td>Not as Advertised</td>\n",
       "      <td>product arriv label as jumbo salt peanut the peanut were actual small size unsalt not sure if th...</td>\n",
       "      <td>0</td>\n",
       "    </tr>\n",
       "    <tr>\n",
       "      <th>12</th>\n",
       "      <td>My Cats Are Not Fans of the New Food</td>\n",
       "      <td>my cat have been happili eat felida platinum for more than two year i just got a new bag and the...</td>\n",
       "      <td>0</td>\n",
       "    </tr>\n",
       "    <tr>\n",
       "      <th>26</th>\n",
       "      <td>Nasty No flavor</td>\n",
       "      <td>the candi is just red no flavor just plan and chewi i would never buy them again</td>\n",
       "      <td>0</td>\n",
       "    </tr>\n",
       "    <tr>\n",
       "      <th>50</th>\n",
       "      <td>Don't like it</td>\n",
       "      <td>this oatmeal is not good it mushi soft i dont like it quaker oat is the way to go</td>\n",
       "      <td>0</td>\n",
       "    </tr>\n",
       "    <tr>\n",
       "      <th>62</th>\n",
       "      <td>stale product.</td>\n",
       "      <td>arriv in 6 day and were so stale i could not eat ani of the 6 bag</td>\n",
       "      <td>0</td>\n",
       "    </tr>\n",
       "  </tbody>\n",
       "</table>\n",
       "</div>"
      ],
      "text/plain": [
       "                                 Summary  \\\n",
       "1                      Not as Advertised   \n",
       "12  My Cats Are Not Fans of the New Food   \n",
       "26                       Nasty No flavor   \n",
       "50                         Don't like it   \n",
       "62                        stale product.   \n",
       "\n",
       "                                                                                           Cleaned_text  \\\n",
       "1   product arriv label as jumbo salt peanut the peanut were actual small size unsalt not sure if th...   \n",
       "12  my cat have been happili eat felida platinum for more than two year i just got a new bag and the...   \n",
       "26                     the candi is just red no flavor just plan and chewi i would never buy them again   \n",
       "50                    this oatmeal is not good it mushi soft i dont like it quaker oat is the way to go   \n",
       "62                                    arriv in 6 day and were so stale i could not eat ani of the 6 bag   \n",
       "\n",
       "    Sentiment  \n",
       "1           0  \n",
       "12          0  \n",
       "26          0  \n",
       "50          0  \n",
       "62          0  "
      ]
     },
     "execution_count": 17,
     "metadata": {},
     "output_type": "execute_result"
    }
   ],
   "source": [
    "df1[df1['Score']==1][['Summary','Cleaned_text','Sentiment']].head(5)"
   ]
  },
  {
   "cell_type": "code",
   "execution_count": 18,
   "metadata": {},
   "outputs": [],
   "source": [
    "X = df1['Cleaned_text'].values\n",
    "y = df1['Sentiment'].values"
   ]
  },
  {
   "cell_type": "code",
   "execution_count": 19,
   "metadata": {},
   "outputs": [],
   "source": [
    "# split training data and test data\n",
    "X_train, X_test, y_train, y_test = train_test_split(X, y,test_size=0.2, random_state=0)"
   ]
  },
  {
   "cell_type": "markdown",
   "metadata": {},
   "source": [
    "### LogisticRegression L1"
   ]
  },
  {
   "cell_type": "code",
   "execution_count": 20,
   "metadata": {},
   "outputs": [
    {
     "name": "stdout",
     "output_type": "stream",
     "text": [
      "AUC score 0.938\n",
      "Accuracy: 0.916\n",
      "Precision: 0.93\n",
      "Recall: 0.975\n",
      "F1-Score: 0.952\n",
      "Confusion Matrix:\n"
     ]
    },
    {
     "data": {
      "text/plain": [
       "<matplotlib.axes._subplots.AxesSubplot at 0x7f96d69c2ac8>"
      ]
     },
     "execution_count": 20,
     "metadata": {},
     "output_type": "execute_result"
    },
    {
     "data": {
      "image/png": "[encoded data removed]",
      "text/plain": [
       "<Figure size 432x288 with 2 Axes>"
      ]
     },
     "metadata": {},
     "output_type": "display_data"
    }
   ],
   "source": [
    "# Logistic regression L1 on Unique gram\n",
    "\n",
    "from sklearn.model_selection import GridSearchCV\n",
    "import warnings\n",
    "warnings.filterwarnings(\"ignore\")\n",
    "ml = LogisticRegression()\n",
    "param= {'C':[10**2,10,1,10**-1,10**-2,10**-3]}\n",
    "gridSearch= GridSearchCV(ml,param,cv=10,scoring='roc_auc',n_jobs=-1)\n",
    "\n",
    "\n",
    "uni = CountVectorizer(min_df = 5)\n",
    "new_train = uni.fit_transform(X_train)\n",
    "new_test = uni.transform(X_test)\n",
    "\n",
    "gridSearch.fit(new_train,y_train)\n",
    "optimal_C = gridSearch.best_params_['C']\n",
    "\n",
    "ml = LogisticRegression(penalty='l1',solver='liblinear',C = optimal_C)\n",
    "result = ml.fit(new_train, y_train)\n",
    "y_pred = result.predict(new_test)\n",
    "\n",
    "auc=roc_auc_score(y_test, ml.predict_proba(new_test)[:,1])\n",
    "print(\"AUC score\",round(auc,3))\n",
    "print(\"Accuracy:\",round(accuracy_score(y_test, y_pred),3))\n",
    "print(\"Precision:\",round(precision_score(y_test, y_pred),3))\n",
    "print(\"Recall:\",round(recall_score(y_test, y_pred),3))\n",
    "print(\"F1-Score:\",round(f1_score(y_test, y_pred),3))\n",
    "\n",
    "print(\"Confusion Matrix:\")\n",
    "df_cm = pd.DataFrame(confusion_matrix(y_test, y_pred), range(2),range(2))\n",
    "sns.set(font_scale=1.4)#for label size\n",
    "sns.heatmap(df_cm, annot=True,annot_kws={\"size\": 16}, fmt='g')"
   ]
  },
  {
   "cell_type": "code",
   "execution_count": 21,
   "metadata": {},
   "outputs": [
    {
     "name": "stdout",
     "output_type": "stream",
     "text": [
      "AUC score 0.963\n",
      "Accuracy: 0.936\n",
      "Precision: 0.949\n",
      "Recall: 0.978\n",
      "F1-Score: 0.963\n",
      "Confusion Matrix:\n"
     ]
    },
    {
     "data": {
      "text/plain": [
       "<matplotlib.axes._subplots.AxesSubplot at 0x7f9663f73470>"
      ]
     },
     "execution_count": 21,
     "metadata": {},
     "output_type": "execute_result"
    },
    {
     "data": {
      "image/png": "[encoded data removed]",
      "text/plain": [
       "<Figure size 432x288 with 2 Axes>"
      ]
     },
     "metadata": {},
     "output_type": "display_data"
    }
   ],
   "source": [
    "# Logistic regression L1 on Bi-gram\n",
    "\n",
    "ml = LogisticRegression()\n",
    "param= {'C':[10**2,10,1,10**-1,10**-2,10**-3]}\n",
    "gridSearch= GridSearchCV(ml,param,cv=10,scoring='roc_auc',n_jobs=-1)\n",
    "\n",
    "\n",
    "uni = CountVectorizer(ngram_range=(1,2),min_df = 5)\n",
    "new_train = uni.fit_transform(X_train)\n",
    "new_test = uni.transform(X_test)\n",
    "\n",
    "gridSearch.fit(new_train,y_train)\n",
    "optimal_C = gridSearch.best_params_['C']\n",
    "\n",
    "ml = LogisticRegression(penalty='l1',solver='liblinear',C = optimal_C)\n",
    "result = ml.fit(new_train, y_train)\n",
    "y_pred = result.predict(new_test)\n",
    "\n",
    "auc=roc_auc_score(y_test, ml.predict_proba(new_test)[:,1])\n",
    "print(\"AUC score\",round(auc,3))\n",
    "print(\"Accuracy:\",round(accuracy_score(y_test, y_pred),3))\n",
    "print(\"Precision:\",round(precision_score(y_test, y_pred),3))\n",
    "print(\"Recall:\",round(recall_score(y_test, y_pred),3))\n",
    "print(\"F1-Score:\",round(f1_score(y_test, y_pred),3))\n",
    "\n",
    "print(\"Confusion Matrix:\")\n",
    "df_cm = pd.DataFrame(confusion_matrix(y_test, y_pred), range(2),range(2))\n",
    "sns.set(font_scale=1.4)#for label size\n",
    "sns.heatmap(df_cm, annot=True,annot_kws={\"size\": 16}, fmt='g')"
   ]
  },
  {
   "cell_type": "code",
   "execution_count": 22,
   "metadata": {},
   "outputs": [
    {
     "name": "stdout",
     "output_type": "stream",
     "text": [
      "AUC score 0.952\n",
      "Accuracy: 0.928\n",
      "Precision: 0.948\n",
      "Recall: 0.97\n",
      "F1-Score: 0.959\n",
      "Confusion Matrix:\n"
     ]
    },
    {
     "data": {
      "text/plain": [
       "<matplotlib.axes._subplots.AxesSubplot at 0x7f9661164ba8>"
      ]
     },
     "execution_count": 22,
     "metadata": {},
     "output_type": "execute_result"
    },
    {
     "data": {
      "image/png": "[encoded data removed]",
      "text/plain": [
       "<Figure size 432x288 with 2 Axes>"
      ]
     },
     "metadata": {},
     "output_type": "display_data"
    }
   ],
   "source": [
    "# Logistic regression model on TF-IDF\n",
    "\n",
    "ml = LogisticRegression()\n",
    "param= {'C':[10**2,10,1,10**-1,10**-2,10**-3]}\n",
    "gridSearch= GridSearchCV(ml,param,cv=10,scoring='roc_auc',n_jobs=-1)\n",
    "\n",
    "\n",
    "tfidf = TfidfVectorizer()\n",
    "new_train = tfidf.fit_transform(X_train)\n",
    "new_test = tfidf.transform(X_test)\n",
    "\n",
    "gridSearch.fit(new_train,y_train)\n",
    "optimal_C = gridSearch.best_params_['C']\n",
    "\n",
    "ml = LogisticRegression(penalty='l1',solver='liblinear',C = optimal_C)\n",
    "result = ml.fit(new_train, y_train)\n",
    "y_pred = result.predict(new_test)\n",
    "\n",
    "auc=roc_auc_score(y_test, ml.predict_proba(new_test)[:,1])\n",
    "print(\"AUC score\",round(auc,3))\n",
    "print(\"Accuracy:\",round(accuracy_score(y_test, y_pred),3))\n",
    "print(\"Precision:\",round(precision_score(y_test, y_pred),3))\n",
    "print(\"Recall:\",round(recall_score(y_test, y_pred),3))\n",
    "print(\"F1-Score:\",round(f1_score(y_test, y_pred),3))\n",
    "\n",
    "print(\"Confusion Matrix:\")\n",
    "df_cm = pd.DataFrame(confusion_matrix(y_test, y_pred), range(2),range(2))\n",
    "sns.set(font_scale=1.4)#for label size\n",
    "sns.heatmap(df_cm, annot=True,annot_kws={\"size\": 16}, fmt='g')"
   ]
  },
  {
   "cell_type": "code",
   "execution_count": 23,
   "metadata": {},
   "outputs": [
    {
     "name": "stdout",
     "output_type": "stream",
     "text": [
      "AUC score 0.976\n",
      "Accuracy: 0.954\n",
      "Precision: 0.97\n",
      "Recall: 0.976\n",
      "F1-Score: 0.973\n",
      "Confusion Matrix:\n"
     ]
    },
    {
     "data": {
      "text/plain": [
       "<matplotlib.axes._subplots.AxesSubplot at 0x7f9624c31e10>"
      ]
     },
     "execution_count": 23,
     "metadata": {},
     "output_type": "execute_result"
    },
    {
     "data": {
      "image/png": "[encoded data removed]",
      "text/plain": [
       "<Figure size 432x288 with 2 Axes>"
      ]
     },
     "metadata": {},
     "output_type": "display_data"
    }
   ],
   "source": [
    "#Logistic regression model on TFIDF + ngram\n",
    "\n",
    "ml = LogisticRegression()\n",
    "param= {'C':[10**2,10,1,10**-1,10**-2,10**-3]}\n",
    "gridSearch= GridSearchCV(ml,param,cv=10,scoring='roc_auc',n_jobs=-1)\n",
    "\n",
    "\n",
    "tfidf_n = TfidfVectorizer(ngram_range=(1,2))\n",
    "new_train = tfidf_n.fit_transform(X_train)\n",
    "new_test = tfidf_n.transform(X_test)\n",
    "\n",
    "gridSearch.fit(new_train,y_train)\n",
    "optimal_C = gridSearch.best_params_['C']\n",
    "\n",
    "ml = LogisticRegression(penalty='l1',solver='liblinear',C = optimal_C)\n",
    "result = ml.fit(new_train, y_train)\n",
    "y_pred = result.predict(new_test)\n",
    "\n",
    "auc=roc_auc_score(y_test, ml.predict_proba(new_test)[:,1])\n",
    "print(\"AUC score\",round(auc,3))\n",
    "print(\"Accuracy:\",round(accuracy_score(y_test, y_pred),3))\n",
    "print(\"Precision:\",round(precision_score(y_test, y_pred),3))\n",
    "print(\"Recall:\",round(recall_score(y_test, y_pred),3))\n",
    "print(\"F1-Score:\",round(f1_score(y_test, y_pred),3))\n",
    "\n",
    "print(\"Confusion Matrix:\")\n",
    "df_cm = pd.DataFrame(confusion_matrix(y_test, y_pred), range(2),range(2))\n",
    "sns.set(font_scale=1.4)#for label size\n",
    "sns.heatmap(df_cm, annot=True,annot_kws={\"size\": 16}, fmt='g')"
   ]
  },
  {
   "cell_type": "markdown",
   "metadata": {},
   "source": [
    "### LogisticRegression L2"
   ]
  },
  {
   "cell_type": "code",
   "execution_count": 24,
   "metadata": {},
   "outputs": [
    {
     "name": "stdout",
     "output_type": "stream",
     "text": [
      "AUC score 0.938\n",
      "Accuracy: 0.918\n",
      "Precision: 0.934\n",
      "Recall: 0.973\n",
      "F1-Score: 0.953\n",
      "Confusion Matrix:\n"
     ]
    },
    {
     "data": {
      "text/plain": [
       "<matplotlib.axes._subplots.AxesSubplot at 0x7f96668551d0>"
      ]
     },
     "execution_count": 24,
     "metadata": {},
     "output_type": "execute_result"
    },
    {
     "data": {
      "image/png": "[encoded data removed]",
      "text/plain": [
       "<Figure size 432x288 with 2 Axes>"
      ]
     },
     "metadata": {},
     "output_type": "display_data"
    }
   ],
   "source": [
    "# LogisticRegression on Uni-gram \n",
    "\n",
    "ml = LogisticRegression()\n",
    "param= {'C':[10**2,10,1,10**-1,10**-2,10**-3]}\n",
    "gridSearch= GridSearchCV(ml,param,cv=10,scoring='roc_auc',n_jobs=-1)\n",
    "\n",
    "\n",
    "uni = CountVectorizer(min_df = 5)\n",
    "new_train = uni.fit_transform(X_train)\n",
    "new_test = uni.transform(X_test)\n",
    "\n",
    "gridSearch.fit(new_train,y_train)\n",
    "optimal_C = gridSearch.best_params_['C']\n",
    "\n",
    "ml = LogisticRegression(penalty='l2',C = optimal_C)\n",
    "result = ml.fit(new_train, y_train)\n",
    "y_pred = result.predict(new_test)\n",
    "\n",
    "auc=roc_auc_score(y_test, ml.predict_proba(new_test)[:,1])\n",
    "print(\"AUC score\",round(auc,3))\n",
    "print(\"Accuracy:\",round(accuracy_score(y_test, y_pred),3))\n",
    "print(\"Precision:\",round(precision_score(y_test, y_pred),3))\n",
    "print(\"Recall:\",round(recall_score(y_test, y_pred),3))\n",
    "print(\"F1-Score:\",round(f1_score(y_test, y_pred),3))\n",
    "\n",
    "print(\"Confusion Matrix:\")\n",
    "df_cm = pd.DataFrame(confusion_matrix(y_test, y_pred), range(2),range(2))\n",
    "sns.set(font_scale=1.4)#for label size\n",
    "sns.heatmap(df_cm, annot=True,annot_kws={\"size\": 16}, fmt='g')"
   ]
  },
  {
   "cell_type": "code",
   "execution_count": 25,
   "metadata": {},
   "outputs": [
    {
     "name": "stdout",
     "output_type": "stream",
     "text": [
      "AUC score 0.971\n",
      "Accuracy: 0.948\n",
      "Precision: 0.961\n",
      "Recall: 0.979\n",
      "F1-Score: 0.97\n",
      "Confusion Matrix:\n"
     ]
    },
    {
     "data": {
      "text/plain": [
       "<matplotlib.axes._subplots.AxesSubplot at 0x7f9562d37710>"
      ]
     },
     "execution_count": 25,
     "metadata": {},
     "output_type": "execute_result"
    },
    {
     "data": {
      "image/png": "[encoded data removed]",
      "text/plain": [
       "<Figure size 432x288 with 2 Axes>"
      ]
     },
     "metadata": {},
     "output_type": "display_data"
    }
   ],
   "source": [
    "# LogisticRegression on Bi-gram \n",
    "\n",
    "ml = LogisticRegression()\n",
    "param= {'C':[10**2,10,1,10**-1,10**-2,10**-3]}\n",
    "gridSearch= GridSearchCV(ml,param,cv=10,scoring='roc_auc',n_jobs=-1)\n",
    "\n",
    "\n",
    "uni = CountVectorizer(ngram_range=(1,2),min_df = 5)\n",
    "new_train = uni.fit_transform(X_train)\n",
    "new_test = uni.transform(X_test)\n",
    "\n",
    "gridSearch.fit(new_train,y_train)\n",
    "optimal_C = gridSearch.best_params_['C']\n",
    "\n",
    "ml = LogisticRegression(penalty='l2',C = optimal_C)\n",
    "result = ml.fit(new_train, y_train)\n",
    "y_pred = result.predict(new_test)\n",
    "\n",
    "auc=roc_auc_score(y_test, ml.predict_proba(new_test)[:,1])\n",
    "print(\"AUC score\",round(auc,3))\n",
    "print(\"Accuracy:\",round(accuracy_score(y_test, y_pred),3))\n",
    "print(\"Precision:\",round(precision_score(y_test, y_pred),3))\n",
    "print(\"Recall:\",round(recall_score(y_test, y_pred),3))\n",
    "print(\"F1-Score:\",round(f1_score(y_test, y_pred),3))\n",
    "\n",
    "print(\"Confusion Matrix:\")\n",
    "df_cm = pd.DataFrame(confusion_matrix(y_test, y_pred), range(2),range(2))\n",
    "sns.set(font_scale=1.4)#for label size\n",
    "sns.heatmap(df_cm, annot=True,annot_kws={\"size\": 16}, fmt='g')"
   ]
  },
  {
   "cell_type": "code",
   "execution_count": 26,
   "metadata": {},
   "outputs": [
    {
     "name": "stdout",
     "output_type": "stream",
     "text": [
      "AUC score 0.953\n",
      "Accuracy: 0.926\n",
      "Precision: 0.944\n",
      "Recall: 0.971\n",
      "F1-Score: 0.958\n",
      "Confusion Matrix:\n"
     ]
    },
    {
     "data": {
      "text/plain": [
       "<matplotlib.axes._subplots.AxesSubplot at 0x7f9562cfb1d0>"
      ]
     },
     "execution_count": 26,
     "metadata": {},
     "output_type": "execute_result"
    },
    {
     "data": {
      "image/png": "[encoded data removed]",
      "text/plain": [
       "<Figure size 432x288 with 2 Axes>"
      ]
     },
     "metadata": {},
     "output_type": "display_data"
    }
   ],
   "source": [
    "# Logistic regression model on TF-IDF\n",
    "\n",
    "ml = LogisticRegression()\n",
    "param= {'C':[10**2,10,1,10**-1,10**-2,10**-3]}\n",
    "gridSearch= GridSearchCV(ml,param,cv=10,scoring='roc_auc',n_jobs=-1)\n",
    "\n",
    "\n",
    "tfidf = TfidfVectorizer()\n",
    "new_train = tfidf.fit_transform(X_train)\n",
    "new_test = tfidf.transform(X_test)\n",
    "\n",
    "gridSearch.fit(new_train,y_train)\n",
    "optimal_C = gridSearch.best_params_['C']\n",
    "\n",
    "ml = LogisticRegression(penalty='l2',C = optimal_C)\n",
    "result = ml.fit(new_train, y_train)\n",
    "y_pred = result.predict(new_test)\n",
    "\n",
    "auc=roc_auc_score(y_test, ml.predict_proba(new_test)[:,1])\n",
    "print(\"AUC score\",round(auc,3))\n",
    "print(\"Accuracy:\",round(accuracy_score(y_test, y_pred),3))\n",
    "print(\"Precision:\",round(precision_score(y_test, y_pred),3))\n",
    "print(\"Recall:\",round(recall_score(y_test, y_pred),3))\n",
    "print(\"F1-Score:\",round(f1_score(y_test, y_pred),3))\n",
    "\n",
    "print(\"Confusion Matrix:\")\n",
    "df_cm = pd.DataFrame(confusion_matrix(y_test, y_pred), range(2),range(2))\n",
    "sns.set(font_scale=1.4)#for label size\n",
    "sns.heatmap(df_cm, annot=True,annot_kws={\"size\": 16}, fmt='g')"
   ]
  },
  {
   "cell_type": "code",
   "execution_count": 27,
   "metadata": {},
   "outputs": [
    {
     "name": "stdout",
     "output_type": "stream",
     "text": [
      "AUC score 0.98\n",
      "Accuracy: 0.954\n",
      "Precision: 0.965\n",
      "Recall: 0.981\n",
      "F1-Score: 0.973\n",
      "Confusion Matrix:\n"
     ]
    },
    {
     "data": {
      "text/plain": [
       "<matplotlib.axes._subplots.AxesSubplot at 0x7f9672b537b8>"
      ]
     },
     "execution_count": 27,
     "metadata": {},
     "output_type": "execute_result"
    },
    {
     "data": {
      "image/png": "[encoded data removed]",
      "text/plain": [
       "<Figure size 432x288 with 2 Axes>"
      ]
     },
     "metadata": {},
     "output_type": "display_data"
    }
   ],
   "source": [
    "#Logistic regression model on TFIDF + ngram\n",
    "\n",
    "ml = LogisticRegression()\n",
    "param= {'C':[10**2,10,1,10**-1,10**-2,10**-3]}\n",
    "gridSearch= GridSearchCV(ml,param,cv=10,scoring='roc_auc',n_jobs=-1)\n",
    "\n",
    "\n",
    "tfidf_n = TfidfVectorizer(ngram_range=(1,2))\n",
    "new_train = tfidf_n.fit_transform(X_train)\n",
    "new_test = tfidf_n.transform(X_test)\n",
    "\n",
    "gridSearch.fit(new_train,y_train)\n",
    "optimal_C = gridSearch.best_params_['C']\n",
    "\n",
    "ml = LogisticRegression(penalty='l2',C = optimal_C)\n",
    "result = ml.fit(new_train, y_train)\n",
    "y_pred = result.predict(new_test)\n",
    "\n",
    "auc=roc_auc_score(y_test, ml.predict_proba(new_test)[:,1])\n",
    "print(\"AUC score\",round(auc,3))\n",
    "print(\"Accuracy:\",round(accuracy_score(y_test, y_pred),3))\n",
    "print(\"Precision:\",round(precision_score(y_test, y_pred),3))\n",
    "print(\"Recall:\",round(recall_score(y_test, y_pred),3))\n",
    "print(\"F1-Score:\",round(f1_score(y_test, y_pred),3))\n",
    "\n",
    "print(\"Confusion Matrix:\")\n",
    "df_cm = pd.DataFrame(confusion_matrix(y_test, y_pred), range(2),range(2))\n",
    "sns.set(font_scale=1.4)#for label size\n",
    "sns.heatmap(df_cm, annot=True,annot_kws={\"size\": 16}, fmt='g')"
   ]
  },
  {
   "cell_type": "markdown",
   "metadata": {},
   "source": [
    "### RandomForest"
   ]
  },
  {
   "cell_type": "code",
   "execution_count": 28,
   "metadata": {},
   "outputs": [
    {
     "name": "stdout",
     "output_type": "stream",
     "text": [
      "AUC score 0.912\n",
      "Accuracy: 0.857\n",
      "Precision: 0.857\n",
      "Recall: 1.0\n",
      "F1-Score: 0.923\n",
      "Confusion Matrix:\n"
     ]
    },
    {
     "data": {
      "text/plain": [
       "<matplotlib.axes._subplots.AxesSubplot at 0x7f9624b455f8>"
      ]
     },
     "execution_count": 28,
     "metadata": {},
     "output_type": "execute_result"
    },
    {
     "data": {
      "image/png": "[encoded data removed]",
      "text/plain": [
       "<Figure size 432x288 with 2 Axes>"
      ]
     },
     "metadata": {},
     "output_type": "display_data"
    }
   ],
   "source": [
    "# RandomForest on Uni-gram with stop_words\n",
    "\n",
    "ml = RandomForestClassifier()\n",
    "param= {'max_depth': [8,16,20,26], 'n_estimators': [40,90,120,200]}\n",
    "gridSearch= GridSearchCV(ml,param,cv=10,scoring='roc_auc',n_jobs=-1)\n",
    "\n",
    "model = CountVectorizer(stop_words = 'english')   \n",
    "new_train = model.fit_transform(X_train)\n",
    "new_test = model.transform(X_test)\n",
    "\n",
    "gridSearch.fit(new_train,y_train)\n",
    "max_depth = gridSearch.best_params_['max_depth']\n",
    "n_estimators = gridSearch.best_params_['n_estimators']\n",
    "ml = RandomForestClassifier(max_depth = max_depth,n_estimators = n_estimators)\n",
    "result = ml.fit(new_train, y_train)\n",
    "y_pred = result.predict(new_test)\n",
    "\n",
    "auc=roc_auc_score(y_test, ml.predict_proba(new_test)[:,1])\n",
    "print(\"AUC score\",round(auc,3))\n",
    "print(\"Accuracy:\",round(accuracy_score(y_test, y_pred),3))\n",
    "print(\"Precision:\",round(precision_score(y_test, y_pred),3))\n",
    "print(\"Recall:\",round(recall_score(y_test, y_pred),3))\n",
    "print(\"F1-Score:\",round(f1_score(y_test, y_pred),3))\n",
    "\n",
    "print(\"Confusion Matrix:\")\n",
    "df_cm = pd.DataFrame(confusion_matrix(y_test, y_pred), range(2),range(2))\n",
    "sns.set(font_scale=1.4)#for label size\n",
    "sns.heatmap(df_cm, annot=True,annot_kws={\"size\": 16}, fmt='g')"
   ]
  },
  {
   "cell_type": "code",
   "execution_count": 29,
   "metadata": {},
   "outputs": [
    {
     "name": "stdout",
     "output_type": "stream",
     "text": [
      "AUC score 0.908\n",
      "Accuracy: 0.856\n",
      "Precision: 0.856\n",
      "Recall: 1.0\n",
      "F1-Score: 0.922\n",
      "Confusion Matrix:\n"
     ]
    },
    {
     "data": {
      "text/plain": [
       "<matplotlib.axes._subplots.AxesSubplot at 0x7f96619b9f28>"
      ]
     },
     "execution_count": 29,
     "metadata": {},
     "output_type": "execute_result"
    },
    {
     "data": {
      "image/png": "[encoded data removed]",
      "text/plain": [
       "<Figure size 432x288 with 2 Axes>"
      ]
     },
     "metadata": {},
     "output_type": "display_data"
    }
   ],
   "source": [
    "# RandomForest with bi-gram with stop_words\n",
    "\n",
    "ml = RandomForestClassifier()\n",
    "param= {'max_depth': [8,16,20,26], 'n_estimators': [40,90,120,200]}\n",
    "gridSearch= GridSearchCV(ml,param,cv=10,scoring='roc_auc',n_jobs=-1)\n",
    "\n",
    "\n",
    "model = CountVectorizer(ngram_range=(1,2),stop_words = 'english')   \n",
    "new_train = model.fit_transform(X_train)\n",
    "new_test = model.transform(X_test)\n",
    "\n",
    "gridSearch.fit(new_train,y_train)\n",
    "max_depth = gridSearch.best_params_['max_depth']\n",
    "n_estimators = gridSearch.best_params_['n_estimators']\n",
    "ml = RandomForestClassifier(max_depth = max_depth,n_estimators = n_estimators)\n",
    "result = ml.fit(new_train, y_train)\n",
    "y_pred = result.predict(new_test)\n",
    "\n",
    "auc=roc_auc_score(y_test, ml.predict_proba(new_test)[:,1])\n",
    "print(\"AUC score\",round(auc,3))\n",
    "print(\"Accuracy:\",round(accuracy_score(y_test, y_pred),3))\n",
    "print(\"Precision:\",round(precision_score(y_test, y_pred),3))\n",
    "print(\"Recall:\",round(recall_score(y_test, y_pred),3))\n",
    "print(\"F1-Score:\",round(f1_score(y_test, y_pred),3))\n",
    "\n",
    "print(\"Confusion Matrix:\")\n",
    "df_cm = pd.DataFrame(confusion_matrix(y_test, y_pred), range(2),range(2))\n",
    "sns.set(font_scale=1.4)#for label size\n",
    "sns.heatmap(df_cm, annot=True,annot_kws={\"size\": 16}, fmt='g')"
   ]
  },
  {
   "cell_type": "code",
   "execution_count": 30,
   "metadata": {},
   "outputs": [
    {
     "name": "stdout",
     "output_type": "stream",
     "text": [
      "AUC score 0.922\n",
      "Accuracy: 0.856\n",
      "Precision: 0.856\n",
      "Recall: 1.0\n",
      "F1-Score: 0.922\n",
      "Confusion Matrix:\n"
     ]
    },
    {
     "data": {
      "text/plain": [
       "<matplotlib.axes._subplots.AxesSubplot at 0x7f96277fbc50>"
      ]
     },
     "execution_count": 30,
     "metadata": {},
     "output_type": "execute_result"
    },
    {
     "data": {
      "image/png": "[encoded data removed]",
      "text/plain": [
       "<Figure size 432x288 with 2 Axes>"
      ]
     },
     "metadata": {},
     "output_type": "display_data"
    }
   ],
   "source": [
    "# RandomForest model on TFIDF with stop words\n",
    "\n",
    "ml = RandomForestClassifier()\n",
    "param= {'max_depth': [8,16,20,26], 'n_estimators': [40,90,120,200]}\n",
    "gridSearch= GridSearchCV(ml,param,cv=10,scoring='roc_auc',n_jobs=-1)\n",
    "\n",
    "\n",
    "tfidf = TfidfVectorizer(stop_words = 'english')   \n",
    "new_train = tfidf.fit_transform(X_train)\n",
    "new_test = tfidf.transform(X_test)\n",
    "\n",
    "gridSearch.fit(new_train,y_train)\n",
    "max_depth = gridSearch.best_params_['max_depth']\n",
    "n_estimators = gridSearch.best_params_['n_estimators']\n",
    "ml = RandomForestClassifier(max_depth = max_depth,n_estimators = n_estimators)\n",
    "result = ml.fit(new_train, y_train)\n",
    "y_pred = result.predict(new_test)\n",
    "\n",
    "auc=roc_auc_score(y_test, ml.predict_proba(new_test)[:,1])\n",
    "print(\"AUC score\",round(auc,3))\n",
    "print(\"Accuracy:\",round(accuracy_score(y_test, y_pred),3))\n",
    "print(\"Precision:\",round(precision_score(y_test, y_pred),3))\n",
    "print(\"Recall:\",round(recall_score(y_test, y_pred),3))\n",
    "print(\"F1-Score:\",round(f1_score(y_test, y_pred),3))\n",
    "\n",
    "print(\"Confusion Matrix:\")\n",
    "df_cm = pd.DataFrame(confusion_matrix(y_test, y_pred), range(2),range(2))\n",
    "sns.set(font_scale=1.4)#for label size\n",
    "sns.heatmap(df_cm, annot=True,annot_kws={\"size\": 16}, fmt='g')"
   ]
  },
  {
   "cell_type": "code",
   "execution_count": 31,
   "metadata": {},
   "outputs": [
    {
     "name": "stdout",
     "output_type": "stream",
     "text": [
      "AUC score 0.91\n",
      "Accuracy: 0.856\n",
      "Precision: 0.856\n",
      "Recall: 1.0\n",
      "F1-Score: 0.922\n",
      "Confusion Matrix:\n"
     ]
    },
    {
     "data": {
      "text/plain": [
       "<matplotlib.axes._subplots.AxesSubplot at 0x7f962493bef0>"
      ]
     },
     "execution_count": 31,
     "metadata": {},
     "output_type": "execute_result"
    },
    {
     "data": {
      "image/png": "[encoded data removed]",
      "text/plain": [
       "<Figure size 432x288 with 2 Axes>"
      ]
     },
     "metadata": {},
     "output_type": "display_data"
    }
   ],
   "source": [
    "#RandomForest model on TFIDF + ngram with stopword\n",
    "\n",
    "ml = RandomForestClassifier()\n",
    "param= {'max_depth': [8,16,20,26], 'n_estimators': [40,90,120,200]}\n",
    "gridSearch= GridSearchCV(ml,param,cv=10,scoring='roc_auc',n_jobs=-1)\n",
    "\n",
    "\n",
    "tfidf_n = TfidfVectorizer(ngram_range=(1,2),stop_words = 'english')   \n",
    "new_train = tfidf_n.fit_transform(X_train)\n",
    "new_test = tfidf_n.transform(X_test)\n",
    "\n",
    "gridSearch.fit(new_train,y_train)\n",
    "max_depth = gridSearch.best_params_['max_depth']\n",
    "n_estimators = gridSearch.best_params_['n_estimators']\n",
    "ml = RandomForestClassifier(max_depth = max_depth,n_estimators = n_estimators)\n",
    "result = ml.fit(new_train, y_train)\n",
    "y_pred = result.predict(new_test)\n",
    "\n",
    "auc=roc_auc_score(y_test, ml.predict_proba(new_test)[:,1])\n",
    "print(\"AUC score\",round(auc,3))\n",
    "print(\"Accuracy:\",round(accuracy_score(y_test, y_pred),3))\n",
    "print(\"Precision:\",round(precision_score(y_test, y_pred),3))\n",
    "print(\"Recall:\",round(recall_score(y_test, y_pred),3))\n",
    "print(\"F1-Score:\",round(f1_score(y_test, y_pred),3))\n",
    "\n",
    "print(\"Confusion Matrix:\")\n",
    "df_cm = pd.DataFrame(confusion_matrix(y_test, y_pred), range(2),range(2))\n",
    "sns.set(font_scale=1.4)#for label size\n",
    "sns.heatmap(df_cm, annot=True,annot_kws={\"size\": 16}, fmt='g')"
   ]
  },
  {
   "cell_type": "markdown",
   "metadata": {},
   "source": [
    "### KNeighbors"
   ]
  },
  {
   "cell_type": "code",
   "execution_count": 39,
   "metadata": {},
   "outputs": [
    {
     "name": "stdout",
     "output_type": "stream",
     "text": [
      "AUC score 0.712\n",
      "Accuracy: 0.854\n",
      "Precision: 0.858\n",
      "Recall: 0.992\n",
      "F1-Score: 0.92\n"
     ]
    }
   ],
   "source": [
    "# KNeighbors model with Uni-gram \n",
    "c = CountVectorizer()  \n",
    "new_train = c.fit_transform(X_train)\n",
    "new_test = c.transform(X_test)\n",
    "\n",
    "# Find optimal k\n",
    "myList = list(range(0,30))\n",
    "nb = list(filter(lambda x: x % 2 != 0, myList))\n",
    "result=[]\n",
    "for i in nb:\n",
    "    Knn = KNeighborsClassifier(n_neighbors=i,algorithm='brute')\n",
    "    Knn.fit(new_train,y_train )\n",
    "    pred = Knn.predict(new_test)\n",
    "    score = f1_score(y_test, pred)\n",
    "    result.append(score)\n",
    "    \n",
    "MSE = [1 - x for x in result]\n",
    "optimal_k = nb[MSE.index(min(MSE))]\n",
    "\n",
    "ml = KNeighborsClassifier(optimal_k)\n",
    "re = ml.fit(new_train, y_train)\n",
    "y_pred = re.predict(new_test)\n",
    "\n",
    "auc=roc_auc_score(y_test, ml.predict_proba(new_test)[:,1])\n",
    "print(\"AUC score\",round(auc,3))\n",
    "print(\"Accuracy:\",round(accuracy_score(y_test, y_pred),3))\n",
    "print(\"Precision:\",round(precision_score(y_test, y_pred),3))\n",
    "print(\"Recall:\",round(recall_score(y_test, y_pred),3))\n",
    "print(\"F1-Score:\",round(f1_score(y_test, y_pred),3))\n"
   ]
  },
  {
   "cell_type": "code",
   "execution_count": 40,
   "metadata": {},
   "outputs": [
    {
     "name": "stdout",
     "output_type": "stream",
     "text": [
      "AUC score 0.724\n",
      "Accuracy: 0.85\n",
      "Precision: 0.851\n",
      "Recall: 0.998\n",
      "F1-Score: 0.919\n"
     ]
    }
   ],
   "source": [
    "# KNeighbors model on Bi-gram \n",
    "c = CountVectorizer(ngram_range=(1,2)) \n",
    "new_train = c.fit_transform(X_train)\n",
    "new_test = c.transform(X_test)\n",
    "\n",
    "# Find optimal k\n",
    "myList = list(range(0,30))\n",
    "nb = list(filter(lambda x: x % 2 != 0, myList))\n",
    "result=[]\n",
    "for i in nb:\n",
    "    Knn = KNeighborsClassifier(n_neighbors=i,algorithm='brute')\n",
    "    Knn.fit(new_train,y_train )\n",
    "    pred = Knn.predict(new_test)\n",
    "    score = f1_score(y_test, pred)\n",
    "    result.append(score)\n",
    "    \n",
    "MSE = [1 - x for x in result]\n",
    "optimal_k = nb[MSE.index(min(MSE))]\n",
    "\n",
    "ml = KNeighborsClassifier(optimal_k)\n",
    "result = ml.fit(new_train, y_train)\n",
    "y_pred = result.predict(new_test)\n",
    "\n",
    "auc=roc_auc_score(y_test, ml.predict_proba(new_test)[:,1])\n",
    "print(\"AUC score\",round(auc,3))\n",
    "print(\"Accuracy:\",round(accuracy_score(y_test, y_pred),3))\n",
    "print(\"Precision:\",round(precision_score(y_test, y_pred),3))\n",
    "print(\"Recall:\",round(recall_score(y_test, y_pred),3))\n",
    "print(\"F1-Score:\",round(f1_score(y_test, y_pred),3))\n"
   ]
  },
  {
   "cell_type": "code",
   "execution_count": 41,
   "metadata": {},
   "outputs": [
    {
     "name": "stdout",
     "output_type": "stream",
     "text": [
      "AUC score 0.79\n",
      "Accuracy: 0.863\n",
      "Precision: 0.865\n",
      "Recall: 0.993\n",
      "F1-Score: 0.925\n"
     ]
    }
   ],
   "source": [
    "# KNeighbors model on TFIDF \n",
    "\n",
    "tfidf = TfidfVectorizer() \n",
    "new_train = tfidf.fit_transform(X_train)\n",
    "new_test = tfidf.transform(X_test)\n",
    "\n",
    "# Find optimal k\n",
    "myList = list(range(0,30))\n",
    "nb = list(filter(lambda x: x % 2 != 0, myList))\n",
    "result=[]\n",
    "for i in nb:\n",
    "    Knn = KNeighborsClassifier(n_neighbors=i,algorithm='brute')\n",
    "    Knn.fit(new_train,y_train )\n",
    "    pred = Knn.predict(new_test)\n",
    "    score = f1_score(y_test, pred)\n",
    "    result.append(score)\n",
    "    \n",
    "MSE = [1 - x for x in result]\n",
    "optimal_k = nb[MSE.index(min(MSE))]\n",
    "\n",
    "ml = KNeighborsClassifier(optimal_k)\n",
    "result = ml.fit(new_train, y_train)\n",
    "y_pred = result.predict(new_test)\n",
    "\n",
    "auc=roc_auc_score(y_test, ml.predict_proba(new_test)[:,1])\n",
    "print(\"AUC score\",round(auc,3))\n",
    "print(\"Accuracy:\",round(accuracy_score(y_test, y_pred),3))\n",
    "print(\"Precision:\",round(precision_score(y_test, y_pred),3))\n",
    "print(\"Recall:\",round(recall_score(y_test, y_pred),3))\n",
    "print(\"F1-Score:\",round(f1_score(y_test, y_pred),3))\n"
   ]
  },
  {
   "cell_type": "code",
   "execution_count": 42,
   "metadata": {},
   "outputs": [
    {
     "name": "stdout",
     "output_type": "stream",
     "text": [
      "AUC score 0.824\n",
      "Accuracy: 0.867\n",
      "Precision: 0.869\n",
      "Recall: 0.993\n",
      "F1-Score: 0.927\n"
     ]
    }
   ],
   "source": [
    "#KNeighbors model on TFIDF + ngram\n",
    "\n",
    "tfidf_n = TfidfVectorizer(ngram_range=(1,2))\n",
    "new_train = tfidf_n.fit_transform(X_train)\n",
    "new_test = tfidf_n.transform(X_test)\n",
    "\n",
    "# Find optimal k\n",
    "myList = list(range(0,30))\n",
    "nb = list(filter(lambda x: x % 2 != 0, myList))\n",
    "result=[]\n",
    "for i in nb:\n",
    "    Knn = KNeighborsClassifier(n_neighbors=i,algorithm='brute')\n",
    "    Knn.fit(new_train,y_train )\n",
    "    pred = Knn.predict(new_test)\n",
    "    score = f1_score(y_test, pred)\n",
    "    result.append(score)\n",
    "    \n",
    "MSE = [1 - x for x in result]\n",
    "optimal_k = nb[MSE.index(min(MSE))]\n",
    "\n",
    "ml = KNeighborsClassifier(optimal_k)\n",
    "result = ml.fit(new_train, y_train)\n",
    "y_pred = result.predict(new_test)\n",
    "\n",
    "auc=roc_auc_score(y_test, ml.predict_proba(new_test)[:,1])\n",
    "print(\"AUC score\",round(auc,3))\n",
    "print(\"Accuracy:\",round(accuracy_score(y_test, y_pred),3))\n",
    "print(\"Precision:\",round(precision_score(y_test, y_pred),3))\n",
    "print(\"Recall:\",round(recall_score(y_test, y_pred),3))\n",
    "print(\"F1-Score:\",round(f1_score(y_test, y_pred),3))\n"
   ]
  },
  {
   "cell_type": "markdown",
   "metadata": {},
   "source": [
    "### Naive bayes MultinomialNB"
   ]
  },
  {
   "cell_type": "code",
   "execution_count": 43,
   "metadata": {},
   "outputs": [
    {
     "name": "stdout",
     "output_type": "stream",
     "text": [
      "AUC score 0.9\n",
      "Accuracy: 0.889\n",
      "Precision: 0.937\n",
      "Recall: 0.931\n",
      "F1-Score: 0.934\n"
     ]
    }
   ],
   "source": [
    "#MultinomialNB model on unigram\n",
    "c = CountVectorizer()\n",
    "new_train = c.fit_transform(X_train)\n",
    "new_test = c.transform(X_test)\n",
    "alpha_values = np.linspace(0.000001,1,50)\n",
    "result=[]\n",
    "# Find optimal alpha\n",
    "for alpha in alpha_values:\n",
    "    mnb = MultinomialNB(alpha = alpha)\n",
    "    scores = cross_val_score(mnb, new_train, y_train, cv = 10, scoring = 'roc_auc')\n",
    "    result.append(scores.mean())\n",
    "optimal_alpha = alpha_values[result.index(max(result))]\n",
    "\n",
    "ml = MultinomialNB(optimal_alpha)\n",
    "result = ml.fit(new_train, y_train)\n",
    "y_pred = result.predict(new_test)\n",
    "\n",
    "auc=roc_auc_score(y_test, ml.predict_proba(new_test)[:,1])\n",
    "print(\"AUC score\",round(auc,3))\n",
    "print(\"Accuracy:\",round(accuracy_score(y_test, y_pred),3))\n",
    "print(\"Precision:\",round(precision_score(y_test, y_pred),3))\n",
    "print(\"Recall:\",round(recall_score(y_test, y_pred),3))\n",
    "print(\"F1-Score:\",round(f1_score(y_test, y_pred),3))\n"
   ]
  },
  {
   "cell_type": "code",
   "execution_count": 44,
   "metadata": {},
   "outputs": [
    {
     "name": "stdout",
     "output_type": "stream",
     "text": [
      "AUC score 0.907\n",
      "Accuracy: 0.916\n",
      "Precision: 0.938\n",
      "Recall: 0.964\n",
      "F1-Score: 0.951\n"
     ]
    }
   ],
   "source": [
    "#MultinomialNB model with Bi-gram\n",
    "\n",
    "c = CountVectorizer(ngram_range=(1,2))\n",
    "new_train = c.fit_transform(X_train)\n",
    "new_test = c.transform(X_test)\n",
    "alpha_values = np.linspace(0.000001,1,50)\n",
    "result=[]\n",
    "# Find optimal alpha\n",
    "for alpha in alpha_values:\n",
    "    mnb = MultinomialNB(alpha = alpha)\n",
    "    scores = cross_val_score(mnb, new_train, y_train, cv = 10, scoring = 'roc_auc')\n",
    "    result.append(scores.mean())\n",
    "optimal_alpha = alpha_values[result.index(max(result))]\n",
    "\n",
    "ml = MultinomialNB(optimal_alpha)\n",
    "result = ml.fit(new_train, y_train)\n",
    "y_pred = result.predict(new_test)\n",
    "\n",
    "auc=roc_auc_score(y_test, ml.predict_proba(new_test)[:,1])\n",
    "print(\"AUC score\",round(auc,3))\n",
    "print(\"Accuracy:\",round(accuracy_score(y_test, y_pred),3))\n",
    "print(\"Precision:\",round(precision_score(y_test, y_pred),3))\n",
    "print(\"Recall:\",round(recall_score(y_test, y_pred),3))\n",
    "print(\"F1-Score:\",round(f1_score(y_test, y_pred),3))\n"
   ]
  },
  {
   "cell_type": "markdown",
   "metadata": {},
   "source": [
    "## Conclusion\n",
    "The best model in this case is Logistic Regression L2 on Bi-gram + TFIDF model, the accuracy score is 95.4%, AUC score is 98%, f1 score is 97.3%"
   ]
  },
  {
   "cell_type": "code",
   "execution_count": null,
   "metadata": {},
   "outputs": [],
   "source": []
  }
 ],
 "metadata": {
  "kernelspec": {
   "display_name": "Python 3",
   "language": "python",
   "name": "python3"
  },
  "language_info": {
   "codemirror_mode": {
    "name": "ipython",
    "version": 3
   },
   "file_extension": ".py",
   "mimetype": "text/x-python",
   "name": "python",
   "nbconvert_exporter": "python",
   "pygments_lexer": "ipython3",
   "version": "3.7.1"
  }
 },
 "nbformat": 4,
 "nbformat_minor": 2
}
