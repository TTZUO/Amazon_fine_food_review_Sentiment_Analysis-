{
 "cells": [
  {
   "cell_type": "code",
   "execution_count": 1,
   "metadata": {},
   "outputs": [],
   "source": [
    "%matplotlib inline\n",
    "import warnings\n",
    "warnings.filterwarnings(\"ignore\")\n",
    "\n",
    "import pandas as pd\n",
    "import numpy as np\n",
    "from sklearn.model_selection import train_test_split\n",
    "import re\n",
    "from nltk.stem import SnowballStemmer \n",
    "import seaborn as sns\n",
    "import matplotlib.pyplot as plt\n",
    "\n",
    "# load the LinearRegression() function from sklearn's 'linear_model' sub-library\n",
    "from sklearn.linear_model import LogisticRegression\n",
    "# load the cross_val_score function from the sklearn.model_selection module\n",
    "from sklearn.model_selection import cross_val_score\n",
    "from sklearn.feature_extraction.text import CountVectorizer\n",
    "from sklearn.feature_extraction.text import TfidfVectorizer\n",
    "from sklearn.metrics import classification_report\n",
    "\n",
    "from sklearn.ensemble import RandomForestClassifier\n",
    "\n",
    "from nltk.corpus import stopwords  \n",
    "from sklearn.neighbors import KNeighborsClassifier\n",
    "from sklearn.naive_bayes import MultinomialNB\n",
    "from sklearn.metrics import roc_auc_score\n",
    "from sklearn import metrics\n",
    "from sklearn.metrics import roc_curve, auc\n",
    "from sklearn.metrics import accuracy_score\n",
    "# from sklearn.svm import SVC"
   ]
  },
  {
   "cell_type": "code",
   "execution_count": 2,
   "metadata": {},
   "outputs": [],
   "source": [
    "pd.set_option('display.max_rows', None)\n",
    "pd.set_option('max_colwidth',100)"
   ]
  },
  {
   "cell_type": "code",
   "execution_count": 3,
   "metadata": {},
   "outputs": [
    {
     "data": {
      "text/html": [
       "<div>\n",
       "<style scoped>\n",
       "    .dataframe tbody tr th:only-of-type {\n",
       "        vertical-align: middle;\n",
       "    }\n",
       "\n",
       "    .dataframe tbody tr th {\n",
       "        vertical-align: top;\n",
       "    }\n",
       "\n",
       "    .dataframe thead th {\n",
       "        text-align: right;\n",
       "    }\n",
       "</style>\n",
       "<table border=\"1\" class=\"dataframe\">\n",
       "  <thead>\n",
       "    <tr style=\"text-align: right;\">\n",
       "      <th></th>\n",
       "      <th>Id</th>\n",
       "      <th>ProductId</th>\n",
       "      <th>UserId</th>\n",
       "      <th>ProfileName</th>\n",
       "      <th>HelpfulnessNumerator</th>\n",
       "      <th>HelpfulnessDenominator</th>\n",
       "      <th>Score</th>\n",
       "      <th>Time</th>\n",
       "      <th>Summary</th>\n",
       "      <th>Text</th>\n",
       "    </tr>\n",
       "  </thead>\n",
       "  <tbody>\n",
       "    <tr>\n",
       "      <th>0</th>\n",
       "      <td>1</td>\n",
       "      <td>B001E4KFG0</td>\n",
       "      <td>A3SGXH7AUHU8GW</td>\n",
       "      <td>delmartian</td>\n",
       "      <td>1</td>\n",
       "      <td>1</td>\n",
       "      <td>5</td>\n",
       "      <td>1303862400</td>\n",
       "      <td>Good Quality Dog Food</td>\n",
       "      <td>I have bought several of the Vitality canned dog food products and have found them all to be of ...</td>\n",
       "    </tr>\n",
       "    <tr>\n",
       "      <th>1</th>\n",
       "      <td>2</td>\n",
       "      <td>B00813GRG4</td>\n",
       "      <td>A1D87F6ZCVE5NK</td>\n",
       "      <td>dll pa</td>\n",
       "      <td>0</td>\n",
       "      <td>0</td>\n",
       "      <td>1</td>\n",
       "      <td>1346976000</td>\n",
       "      <td>Not as Advertised</td>\n",
       "      <td>Product arrived labeled as Jumbo Salted Peanuts...the peanuts were actually small sized unsalted...</td>\n",
       "    </tr>\n",
       "    <tr>\n",
       "      <th>2</th>\n",
       "      <td>3</td>\n",
       "      <td>B000LQOCH0</td>\n",
       "      <td>ABXLMWJIXXAIN</td>\n",
       "      <td>Natalia Corres \"Natalia Corres\"</td>\n",
       "      <td>1</td>\n",
       "      <td>1</td>\n",
       "      <td>4</td>\n",
       "      <td>1219017600</td>\n",
       "      <td>\"Delight\" says it all</td>\n",
       "      <td>This is a confection that has been around a few centuries.  It is a light, pillowy citrus gelati...</td>\n",
       "    </tr>\n",
       "    <tr>\n",
       "      <th>3</th>\n",
       "      <td>4</td>\n",
       "      <td>B000UA0QIQ</td>\n",
       "      <td>A395BORC6FGVXV</td>\n",
       "      <td>Karl</td>\n",
       "      <td>3</td>\n",
       "      <td>3</td>\n",
       "      <td>2</td>\n",
       "      <td>1307923200</td>\n",
       "      <td>Cough Medicine</td>\n",
       "      <td>If you are looking for the secret ingredient in Robitussin I believe I have found it.  I got thi...</td>\n",
       "    </tr>\n",
       "    <tr>\n",
       "      <th>4</th>\n",
       "      <td>5</td>\n",
       "      <td>B006K2ZZ7K</td>\n",
       "      <td>A1UQRSCLF8GW1T</td>\n",
       "      <td>Michael D. Bigham \"M. Wassir\"</td>\n",
       "      <td>0</td>\n",
       "      <td>0</td>\n",
       "      <td>5</td>\n",
       "      <td>1350777600</td>\n",
       "      <td>Great taffy</td>\n",
       "      <td>Great taffy at a great price.  There was a wide assortment of yummy taffy.  Delivery was very qu...</td>\n",
       "    </tr>\n",
       "  </tbody>\n",
       "</table>\n",
       "</div>"
      ],
      "text/plain": [
       "   Id   ProductId          UserId                      ProfileName  \\\n",
       "0   1  B001E4KFG0  A3SGXH7AUHU8GW                       delmartian   \n",
       "1   2  B00813GRG4  A1D87F6ZCVE5NK                           dll pa   \n",
       "2   3  B000LQOCH0   ABXLMWJIXXAIN  Natalia Corres \"Natalia Corres\"   \n",
       "3   4  B000UA0QIQ  A395BORC6FGVXV                             Karl   \n",
       "4   5  B006K2ZZ7K  A1UQRSCLF8GW1T    Michael D. Bigham \"M. Wassir\"   \n",
       "\n",
       "   HelpfulnessNumerator  HelpfulnessDenominator  Score        Time  \\\n",
       "0                     1                       1      5  1303862400   \n",
       "1                     0                       0      1  1346976000   \n",
       "2                     1                       1      4  1219017600   \n",
       "3                     3                       3      2  1307923200   \n",
       "4                     0                       0      5  1350777600   \n",
       "\n",
       "                 Summary  \\\n",
       "0  Good Quality Dog Food   \n",
       "1      Not as Advertised   \n",
       "2  \"Delight\" says it all   \n",
       "3         Cough Medicine   \n",
       "4            Great taffy   \n",
       "\n",
       "                                                                                                  Text  \n",
       "0  I have bought several of the Vitality canned dog food products and have found them all to be of ...  \n",
       "1  Product arrived labeled as Jumbo Salted Peanuts...the peanuts were actually small sized unsalted...  \n",
       "2  This is a confection that has been around a few centuries.  It is a light, pillowy citrus gelati...  \n",
       "3  If you are looking for the secret ingredient in Robitussin I believe I have found it.  I got thi...  \n",
       "4  Great taffy at a great price.  There was a wide assortment of yummy taffy.  Delivery was very qu...  "
      ]
     },
     "execution_count": 3,
     "metadata": {},
     "output_type": "execute_result"
    }
   ],
   "source": [
    "df = pd.read_csv('Reviews.csv')\n",
    "df.head(5)"
   ]
  },
  {
   "cell_type": "code",
   "execution_count": 4,
   "metadata": {},
   "outputs": [],
   "source": [
    "df = df[df['HelpfulnessNumerator'] <= df['HelpfulnessDenominator']]"
   ]
  },
  {
   "cell_type": "code",
   "execution_count": 5,
   "metadata": {},
   "outputs": [
    {
     "name": "stdout",
     "output_type": "stream",
     "text": [
      "<class 'pandas.core.frame.DataFrame'>\n",
      "Int64Index: 568452 entries, 0 to 568453\n",
      "Data columns (total 10 columns):\n",
      "Id                        568452 non-null int64\n",
      "ProductId                 568452 non-null object\n",
      "UserId                    568452 non-null object\n",
      "ProfileName               568436 non-null object\n",
      "HelpfulnessNumerator      568452 non-null int64\n",
      "HelpfulnessDenominator    568452 non-null int64\n",
      "Score                     568452 non-null int64\n",
      "Time                      568452 non-null int64\n",
      "Summary                   568425 non-null object\n",
      "Text                      568452 non-null object\n",
      "dtypes: int64(5), object(5)\n",
      "memory usage: 47.7+ MB\n"
     ]
    }
   ],
   "source": [
    "df.info()"
   ]
  },
  {
   "cell_type": "code",
   "execution_count": 6,
   "metadata": {},
   "outputs": [
    {
     "data": {
      "text/plain": [
       "(568452, 10)"
      ]
     },
     "execution_count": 6,
     "metadata": {},
     "output_type": "execute_result"
    }
   ],
   "source": [
    "df.shape"
   ]
  },
  {
   "cell_type": "code",
   "execution_count": 7,
   "metadata": {},
   "outputs": [
    {
     "data": {
      "text/plain": [
       "Id                        568452\n",
       "ProductId                  74258\n",
       "UserId                    256059\n",
       "ProfileName               218416\n",
       "HelpfulnessNumerator         231\n",
       "HelpfulnessDenominator       234\n",
       "Score                          5\n",
       "Time                        3168\n",
       "Summary                   295741\n",
       "Text                      393577\n",
       "dtype: int64"
      ]
     },
     "execution_count": 7,
     "metadata": {},
     "output_type": "execute_result"
    }
   ],
   "source": [
    "df.nunique()"
   ]
  },
  {
   "cell_type": "code",
   "execution_count": 8,
   "metadata": {},
   "outputs": [],
   "source": [
    "# rename columns\n",
    "df.columns = [\"Id\", \"ProductId\", \"UserId\", \"ProfileName\", \"VotesHelpful\",\n",
    "              \"VotesTotal\", \"Score\", \"Time\", \"Summary\", \"Text\"]"
   ]
  },
  {
   "cell_type": "code",
   "execution_count": 9,
   "metadata": {},
   "outputs": [],
   "source": [
    "def score_sentiment(score):\n",
    "    # Replace scores of 1,2 with negative and 4,5 with positive\n",
    "    if(score <= 3):\n",
    "        return \"negative\"\n",
    "    else:\n",
    "        return \"positive\"\n",
    "df[\"Sentiment\"] = df.Score.apply(score_sentiment)   "
   ]
  },
  {
   "cell_type": "code",
   "execution_count": 10,
   "metadata": {},
   "outputs": [
    {
     "data": {
      "text/plain": [
       "positive    443775\n",
       "negative    124677\n",
       "Name: Sentiment, dtype: int64"
      ]
     },
     "execution_count": 10,
     "metadata": {},
     "output_type": "execute_result"
    }
   ],
   "source": [
    "df[\"Sentiment\"].value_counts()"
   ]
  },
  {
   "cell_type": "code",
   "execution_count": 11,
   "metadata": {},
   "outputs": [],
   "source": [
    "# import re\n",
    "# from nltk.stem import SnowballStemmer \n",
    "snow = SnowballStemmer('english') \n",
    "\n",
    "def cleanup(sentence):\n",
    "    sentence = str(sentence)\n",
    "    sentence = sentence.lower() # lower case\n",
    "    sentence = re.sub(r'[?|!|.|,|)|(|\\|/]',r' ',sentence) # replace these punctuation with space\n",
    "    tokens = sentence.split()\n",
    "    out = []\n",
    "    for t in tokens:\n",
    "        out.append(snow.stem(t))\n",
    "    out = \" \".join(out)\n",
    "    out = re.sub(r'[\\'|\"|#]', r'', out) # remove these punctuation\n",
    "    return out    "
   ]
  },
  {
   "cell_type": "code",
   "execution_count": 12,
   "metadata": {},
   "outputs": [
    {
     "data": {
      "text/plain": [
       "0    i have bought sever of the vital can dog food product and have found them all to be of good qual...\n",
       "1    product arriv label as jumbo salt peanut the peanut were actual small size unsalt not sure if th...\n",
       "2    this is a confect that has been around a few centuri it is a light pillowi citrus gelatin with n...\n",
       "3    if you are look for the secret ingredi in robitussin i believ i have found it i got this in addi...\n",
       "4    great taffi at a great price there was a wide assort of yummi taffi deliveri was veri quick if y...\n",
       "Name: Cleaned_text, dtype: object"
      ]
     },
     "execution_count": 12,
     "metadata": {},
     "output_type": "execute_result"
    }
   ],
   "source": [
    "df[\"Cleaned_text\"] = df['Text'].apply(cleanup)\n",
    "df[\"Cleaned_text\"].head()"
   ]
  },
  {
   "cell_type": "code",
   "execution_count": 13,
   "metadata": {},
   "outputs": [
    {
     "data": {
      "text/plain": [
       "Text(0.5, 1.0, 'Bar plot of sentiments')"
      ]
     },
     "execution_count": 13,
     "metadata": {},
     "output_type": "execute_result"
    },
    {
     "data": {
      "image/png": "[encoded data removed]",
      "text/plain": [
       "<Figure size 576x360 with 1 Axes>"
      ]
     },
     "metadata": {
      "needs_background": "light"
     },
     "output_type": "display_data"
    }
   ],
   "source": [
    "plt.figure(figsize = (8,5))\n",
    "sns.countplot(df['Score'])\n",
    "plt.title(\"Bar plot of sentiments\")"
   ]
  },
  {
   "cell_type": "code",
   "execution_count": 14,
   "metadata": {},
   "outputs": [
    {
     "data": {
      "text/plain": [
       "<matplotlib.axes._subplots.AxesSubplot at 0x7f892b1418d0>"
      ]
     },
     "execution_count": 14,
     "metadata": {},
     "output_type": "execute_result"
    },
    {
     "data": {
      "image/png": "[encoded data removed]",
      "text/plain": [
       "<Figure size 720x576 with 2 Axes>"
      ]
     },
     "metadata": {
      "needs_background": "light"
     },
     "output_type": "display_data"
    }
   ],
   "source": [
    "# set figure size\n",
    "plt.figure(figsize=(10,8))\n",
    "# give corr value to co\n",
    "co = df.corr()\n",
    "# use seaborn to generate heatmap\n",
    "sns.heatmap(co, annot=True)"
   ]
  },
  {
   "cell_type": "code",
   "execution_count": 15,
   "metadata": {},
   "outputs": [
    {
     "data": {
      "text/html": [
       "<div>\n",
       "<style scoped>\n",
       "    .dataframe tbody tr th:only-of-type {\n",
       "        vertical-align: middle;\n",
       "    }\n",
       "\n",
       "    .dataframe tbody tr th {\n",
       "        vertical-align: top;\n",
       "    }\n",
       "\n",
       "    .dataframe thead th {\n",
       "        text-align: right;\n",
       "    }\n",
       "</style>\n",
       "<table border=\"1\" class=\"dataframe\">\n",
       "  <thead>\n",
       "    <tr style=\"text-align: right;\">\n",
       "      <th></th>\n",
       "      <th>Summary</th>\n",
       "      <th>Cleaned_text</th>\n",
       "      <th>Sentiment</th>\n",
       "    </tr>\n",
       "  </thead>\n",
       "  <tbody>\n",
       "    <tr>\n",
       "      <th>0</th>\n",
       "      <td>Good Quality Dog Food</td>\n",
       "      <td>i have bought sever of the vital can dog food product and have found them all to be of good qual...</td>\n",
       "      <td>positive</td>\n",
       "    </tr>\n",
       "    <tr>\n",
       "      <th>4</th>\n",
       "      <td>Great taffy</td>\n",
       "      <td>great taffi at a great price there was a wide assort of yummi taffi deliveri was veri quick if y...</td>\n",
       "      <td>positive</td>\n",
       "    </tr>\n",
       "    <tr>\n",
       "      <th>6</th>\n",
       "      <td>Great!  Just as good as the expensive brands!</td>\n",
       "      <td>this saltwat taffi had great flavor and was veri soft and chewi each candi was individu wrap wel...</td>\n",
       "      <td>positive</td>\n",
       "    </tr>\n",
       "    <tr>\n",
       "      <th>7</th>\n",
       "      <td>Wonderful, tasty taffy</td>\n",
       "      <td>this taffi is so good it is veri soft and chewi the flavor are amaz i would definit recommend yo...</td>\n",
       "      <td>positive</td>\n",
       "    </tr>\n",
       "    <tr>\n",
       "      <th>8</th>\n",
       "      <td>Yay Barley</td>\n",
       "      <td>right now im most just sprout this so my cat can eat the grass they love it i rotat it around wi...</td>\n",
       "      <td>positive</td>\n",
       "    </tr>\n",
       "  </tbody>\n",
       "</table>\n",
       "</div>"
      ],
      "text/plain": [
       "                                         Summary  \\\n",
       "0                          Good Quality Dog Food   \n",
       "4                                    Great taffy   \n",
       "6  Great!  Just as good as the expensive brands!   \n",
       "7                         Wonderful, tasty taffy   \n",
       "8                                     Yay Barley   \n",
       "\n",
       "                                                                                          Cleaned_text  \\\n",
       "0  i have bought sever of the vital can dog food product and have found them all to be of good qual...   \n",
       "4  great taffi at a great price there was a wide assort of yummi taffi deliveri was veri quick if y...   \n",
       "6  this saltwat taffi had great flavor and was veri soft and chewi each candi was individu wrap wel...   \n",
       "7  this taffi is so good it is veri soft and chewi the flavor are amaz i would definit recommend yo...   \n",
       "8  right now im most just sprout this so my cat can eat the grass they love it i rotat it around wi...   \n",
       "\n",
       "  Sentiment  \n",
       "0  positive  \n",
       "4  positive  \n",
       "6  positive  \n",
       "7  positive  \n",
       "8  positive  "
      ]
     },
     "execution_count": 15,
     "metadata": {},
     "output_type": "execute_result"
    }
   ],
   "source": [
    "df[df['Score']==5][['Summary','Cleaned_text','Sentiment']].head(5)"
   ]
  },
  {
   "cell_type": "code",
   "execution_count": 16,
   "metadata": {},
   "outputs": [
    {
     "data": {
      "text/html": [
       "<div>\n",
       "<style scoped>\n",
       "    .dataframe tbody tr th:only-of-type {\n",
       "        vertical-align: middle;\n",
       "    }\n",
       "\n",
       "    .dataframe tbody tr th {\n",
       "        vertical-align: top;\n",
       "    }\n",
       "\n",
       "    .dataframe thead th {\n",
       "        text-align: right;\n",
       "    }\n",
       "</style>\n",
       "<table border=\"1\" class=\"dataframe\">\n",
       "  <thead>\n",
       "    <tr style=\"text-align: right;\">\n",
       "      <th></th>\n",
       "      <th>Summary</th>\n",
       "      <th>Cleaned_text</th>\n",
       "      <th>Sentiment</th>\n",
       "    </tr>\n",
       "  </thead>\n",
       "  <tbody>\n",
       "    <tr>\n",
       "      <th>1</th>\n",
       "      <td>Not as Advertised</td>\n",
       "      <td>product arriv label as jumbo salt peanut the peanut were actual small size unsalt not sure if th...</td>\n",
       "      <td>negative</td>\n",
       "    </tr>\n",
       "    <tr>\n",
       "      <th>12</th>\n",
       "      <td>My Cats Are Not Fans of the New Food</td>\n",
       "      <td>my cat have been happili eat felida platinum for more than two year i just got a new bag and the...</td>\n",
       "      <td>negative</td>\n",
       "    </tr>\n",
       "    <tr>\n",
       "      <th>26</th>\n",
       "      <td>Nasty No flavor</td>\n",
       "      <td>the candi is just red no flavor just plan and chewi i would never buy them again</td>\n",
       "      <td>negative</td>\n",
       "    </tr>\n",
       "    <tr>\n",
       "      <th>50</th>\n",
       "      <td>Don't like it</td>\n",
       "      <td>this oatmeal is not good it mushi soft i dont like it quaker oat is the way to go</td>\n",
       "      <td>negative</td>\n",
       "    </tr>\n",
       "    <tr>\n",
       "      <th>62</th>\n",
       "      <td>stale product.</td>\n",
       "      <td>arriv in 6 day and were so stale i could not eat ani of the 6 bag</td>\n",
       "      <td>negative</td>\n",
       "    </tr>\n",
       "  </tbody>\n",
       "</table>\n",
       "</div>"
      ],
      "text/plain": [
       "                                 Summary  \\\n",
       "1                      Not as Advertised   \n",
       "12  My Cats Are Not Fans of the New Food   \n",
       "26                       Nasty No flavor   \n",
       "50                         Don't like it   \n",
       "62                        stale product.   \n",
       "\n",
       "                                                                                           Cleaned_text  \\\n",
       "1   product arriv label as jumbo salt peanut the peanut were actual small size unsalt not sure if th...   \n",
       "12  my cat have been happili eat felida platinum for more than two year i just got a new bag and the...   \n",
       "26                     the candi is just red no flavor just plan and chewi i would never buy them again   \n",
       "50                    this oatmeal is not good it mushi soft i dont like it quaker oat is the way to go   \n",
       "62                                    arriv in 6 day and were so stale i could not eat ani of the 6 bag   \n",
       "\n",
       "   Sentiment  \n",
       "1   negative  \n",
       "12  negative  \n",
       "26  negative  \n",
       "50  negative  \n",
       "62  negative  "
      ]
     },
     "execution_count": 16,
     "metadata": {},
     "output_type": "execute_result"
    }
   ],
   "source": [
    "df[df['Score']==1][['Summary','Cleaned_text','Sentiment']].head(5)"
   ]
  },
  {
   "cell_type": "code",
   "execution_count": 17,
   "metadata": {},
   "outputs": [
    {
     "data": {
      "text/plain": [
       "(568452, 12)"
      ]
     },
     "execution_count": 17,
     "metadata": {},
     "output_type": "execute_result"
    }
   ],
   "source": [
    "df.shape"
   ]
  },
  {
   "cell_type": "code",
   "execution_count": 18,
   "metadata": {},
   "outputs": [],
   "source": [
    "X = df['Cleaned_text']\n",
    "y = df['Sentiment']"
   ]
  },
  {
   "cell_type": "code",
   "execution_count": 19,
   "metadata": {
    "scrolled": false
   },
   "outputs": [],
   "source": [
    "# fit method\n",
    "def text_fit(X, y, model,ml_model):\n",
    "    \n",
    "    X_c = model.fit_transform(X)\n",
    "    X_train, X_test, y_train, y_test = train_test_split(X_c, y, random_state=0)\n",
    "    ml = ml_model.fit(X_train, y_train)\n",
    "    \n",
    "    y_pred = ml_model.predict(X_test)\n",
    "    print(\"accuracy score: \",accuracy_score(y_test, y_pred))\n",
    "    auc=roc_auc_score(y_test, ml_model.predict_proba(X_test)[:,1])\n",
    "    print(\"AUC score\",auc)\n",
    "    print('')\n",
    "    print(classification_report(y_test, y_pred, target_names=[\"negative\", \"positive\"]))\n"
   ]
  },
  {
   "cell_type": "markdown",
   "metadata": {},
   "source": [
    "### LogisticRegression L1"
   ]
  },
  {
   "cell_type": "code",
   "execution_count": 20,
   "metadata": {},
   "outputs": [
    {
     "name": "stdout",
     "output_type": "stream",
     "text": [
      "accuracy score:  0.9014727716676166\n",
      "AUC score 0.9336926549752885\n",
      "\n",
      "              precision    recall  f1-score   support\n",
      "\n",
      "    negative       0.82      0.70      0.76     30967\n",
      "    positive       0.92      0.96      0.94    111146\n",
      "\n",
      "   micro avg       0.90      0.90      0.90    142113\n",
      "   macro avg       0.87      0.83      0.85    142113\n",
      "weighted avg       0.90      0.90      0.90    142113\n",
      "\n"
     ]
    }
   ],
   "source": [
    "# LogisticRegression on Uni-gram BoW\n",
    "model = CountVectorizer()   \n",
    "text_fit(X, y, model, LogisticRegression(penalty='l1'))"
   ]
  },
  {
   "cell_type": "code",
   "execution_count": 21,
   "metadata": {},
   "outputs": [
    {
     "name": "stdout",
     "output_type": "stream",
     "text": [
      "accuracy score:  0.9403432479787212\n",
      "AUC score 0.964841118779135\n",
      "\n",
      "              precision    recall  f1-score   support\n",
      "\n",
      "    negative       0.88      0.84      0.86     30967\n",
      "    positive       0.96      0.97      0.96    111146\n",
      "\n",
      "   micro avg       0.94      0.94      0.94    142113\n",
      "   macro avg       0.92      0.91      0.91    142113\n",
      "weighted avg       0.94      0.94      0.94    142113\n",
      "\n"
     ]
    }
   ],
   "source": [
    "# LogisticRegression on Bi-gram BoW\n",
    "c = CountVectorizer(ngram_range=(1,2),min_df = 5)\n",
    "text_fit(X, y, c, LogisticRegression(penalty='l1'))"
   ]
  },
  {
   "cell_type": "code",
   "execution_count": 22,
   "metadata": {},
   "outputs": [
    {
     "name": "stdout",
     "output_type": "stream",
     "text": [
      "accuracy score:  0.898651073441557\n",
      "AUC score 0.9411308026694285\n",
      "\n",
      "              precision    recall  f1-score   support\n",
      "\n",
      "    negative       0.81      0.70      0.75     30967\n",
      "    positive       0.92      0.95      0.94    111146\n",
      "\n",
      "   micro avg       0.90      0.90      0.90    142113\n",
      "   macro avg       0.87      0.83      0.84    142113\n",
      "weighted avg       0.90      0.90      0.90    142113\n",
      "\n"
     ]
    }
   ],
   "source": [
    "# Logistic regression model on TFIDF\n",
    "tfidf = TfidfVectorizer()\n",
    "text_fit(X, y, tfidf, LogisticRegression(penalty='l1'))"
   ]
  },
  {
   "cell_type": "code",
   "execution_count": 23,
   "metadata": {},
   "outputs": [
    {
     "name": "stdout",
     "output_type": "stream",
     "text": [
      "accuracy score:  0.9264247465045422\n",
      "AUC score 0.9659925989652527\n",
      "\n",
      "              precision    recall  f1-score   support\n",
      "\n",
      "    negative       0.87      0.78      0.82     30967\n",
      "    positive       0.94      0.97      0.95    111146\n",
      "\n",
      "   micro avg       0.93      0.93      0.93    142113\n",
      "   macro avg       0.91      0.87      0.89    142113\n",
      "weighted avg       0.92      0.93      0.92    142113\n",
      "\n"
     ]
    }
   ],
   "source": [
    "#Logistic regression model on TFIDF + ngram\n",
    "tfidf_n = TfidfVectorizer(ngram_range=(1,2))\n",
    "text_fit(X, y, tfidf_n, LogisticRegression(penalty='l1'))"
   ]
  },
  {
   "cell_type": "markdown",
   "metadata": {},
   "source": [
    "### LogisticRegression L2"
   ]
  },
  {
   "cell_type": "code",
   "execution_count": 24,
   "metadata": {},
   "outputs": [
    {
     "name": "stderr",
     "output_type": "stream",
     "text": [
      "/Users/TTzuo/anaconda3/lib/python3.7/site-packages/sklearn/svm/base.py:922: ConvergenceWarning: Liblinear failed to converge, increase the number of iterations.\n",
      "  \"the number of iterations.\", ConvergenceWarning)\n"
     ]
    },
    {
     "name": "stdout",
     "output_type": "stream",
     "text": [
      "accuracy score:  0.9011279756250308\n",
      "AUC score 0.9344591832168638\n",
      "\n",
      "              precision    recall  f1-score   support\n",
      "\n",
      "    negative       0.82      0.70      0.76     30967\n",
      "    positive       0.92      0.96      0.94    111146\n",
      "\n",
      "   micro avg       0.90      0.90      0.90    142113\n",
      "   macro avg       0.87      0.83      0.85    142113\n",
      "weighted avg       0.90      0.90      0.90    142113\n",
      "\n"
     ]
    }
   ],
   "source": [
    "# LogisticRegression on Uni-gram BoW\n",
    "model = CountVectorizer()   \n",
    "text_fit(X, y, model, LogisticRegression())"
   ]
  },
  {
   "cell_type": "code",
   "execution_count": 25,
   "metadata": {},
   "outputs": [
    {
     "name": "stdout",
     "output_type": "stream",
     "text": [
      "accuracy score:  0.9447270833773124\n",
      "AUC score 0.969518527797378\n",
      "\n",
      "              precision    recall  f1-score   support\n",
      "\n",
      "    negative       0.89      0.85      0.87     30967\n",
      "    positive       0.96      0.97      0.96    111146\n",
      "\n",
      "   micro avg       0.94      0.94      0.94    142113\n",
      "   macro avg       0.92      0.91      0.92    142113\n",
      "weighted avg       0.94      0.94      0.94    142113\n",
      "\n"
     ]
    }
   ],
   "source": [
    "# LogisticRegression on Bi-gram BoW\n",
    "c = CountVectorizer(ngram_range=(1,2),min_df = 5)\n",
    "text_fit(X, y, c, LogisticRegression())"
   ]
  },
  {
   "cell_type": "code",
   "execution_count": 26,
   "metadata": {},
   "outputs": [
    {
     "name": "stdout",
     "output_type": "stream",
     "text": [
      "accuracy score:  0.8985736702483235\n",
      "AUC score 0.9419280011171592\n",
      "\n",
      "              precision    recall  f1-score   support\n",
      "\n",
      "    negative       0.82      0.69      0.75     30967\n",
      "    positive       0.92      0.96      0.94    111146\n",
      "\n",
      "   micro avg       0.90      0.90      0.90    142113\n",
      "   macro avg       0.87      0.82      0.84    142113\n",
      "weighted avg       0.90      0.90      0.90    142113\n",
      "\n"
     ]
    }
   ],
   "source": [
    "# Logistic regression model on TFIDF\n",
    "tfidf = TfidfVectorizer()\n",
    "text_fit(X, y, tfidf, LogisticRegression())"
   ]
  },
  {
   "cell_type": "code",
   "execution_count": 27,
   "metadata": {},
   "outputs": [
    {
     "name": "stdout",
     "output_type": "stream",
     "text": [
      "accuracy score:  0.9323777557295955\n",
      "AUC score 0.9719637406896504\n",
      "\n",
      "              precision    recall  f1-score   support\n",
      "\n",
      "    negative       0.90      0.78      0.83     30967\n",
      "    positive       0.94      0.98      0.96    111146\n",
      "\n",
      "   micro avg       0.93      0.93      0.93    142113\n",
      "   macro avg       0.92      0.88      0.90    142113\n",
      "weighted avg       0.93      0.93      0.93    142113\n",
      "\n"
     ]
    }
   ],
   "source": [
    "#Logistic regression model on TFIDF + ngram\n",
    "tfidf_n = TfidfVectorizer(ngram_range=(1,2))\n",
    "text_fit(X, y, tfidf_n, LogisticRegression())"
   ]
  },
  {
   "cell_type": "markdown",
   "metadata": {},
   "source": [
    "### RandomForest"
   ]
  },
  {
   "cell_type": "code",
   "execution_count": 28,
   "metadata": {},
   "outputs": [
    {
     "name": "stdout",
     "output_type": "stream",
     "text": [
      "accuracy score:  0.8957449353683337\n",
      "AUC score 0.9287937182357736\n",
      "\n",
      "              precision    recall  f1-score   support\n",
      "\n",
      "    negative       0.85      0.64      0.73     30967\n",
      "    positive       0.91      0.97      0.94    111146\n",
      "\n",
      "   micro avg       0.90      0.90      0.90    142113\n",
      "   macro avg       0.88      0.80      0.83    142113\n",
      "weighted avg       0.89      0.90      0.89    142113\n",
      "\n"
     ]
    }
   ],
   "source": [
    "# RandomForest with Uni-gram BoW and stop_words\n",
    "model = CountVectorizer(stop_words = 'english')   \n",
    "text_fit(X, y, model, RandomForestClassifier())"
   ]
  },
  {
   "cell_type": "code",
   "execution_count": 29,
   "metadata": {},
   "outputs": [
    {
     "name": "stdout",
     "output_type": "stream",
     "text": [
      "accuracy score:  0.89523125963142\n",
      "AUC score 0.9258247536649956\n",
      "\n",
      "              precision    recall  f1-score   support\n",
      "\n",
      "    negative       0.91      0.57      0.70     30967\n",
      "    positive       0.89      0.98      0.94    111146\n",
      "\n",
      "   micro avg       0.90      0.90      0.90    142113\n",
      "   macro avg       0.90      0.78      0.82    142113\n",
      "weighted avg       0.90      0.90      0.89    142113\n",
      "\n"
     ]
    }
   ],
   "source": [
    "# RandomForest with n-gram BoW and stop words\n",
    "model = CountVectorizer(ngram_range=(1,2),stop_words = 'english')   \n",
    "text_fit(X, y, model, RandomForestClassifier())"
   ]
  },
  {
   "cell_type": "code",
   "execution_count": 30,
   "metadata": {},
   "outputs": [
    {
     "name": "stdout",
     "output_type": "stream",
     "text": [
      "accuracy score:  0.8950060867056497\n",
      "AUC score 0.9256710048839544\n",
      "\n",
      "              precision    recall  f1-score   support\n",
      "\n",
      "    negative       0.87      0.61      0.72     30967\n",
      "    positive       0.90      0.97      0.94    111146\n",
      "\n",
      "   micro avg       0.90      0.90      0.90    142113\n",
      "   macro avg       0.88      0.79      0.83    142113\n",
      "weighted avg       0.89      0.90      0.89    142113\n",
      "\n"
     ]
    }
   ],
   "source": [
    "# RandomForest model on TFIDF with stop words\n",
    "tfidf = TfidfVectorizer(stop_words = 'english')\n",
    "text_fit(X, y, tfidf, RandomForestClassifier())"
   ]
  },
  {
   "cell_type": "code",
   "execution_count": 31,
   "metadata": {},
   "outputs": [
    {
     "name": "stdout",
     "output_type": "stream",
     "text": [
      "accuracy score:  0.8937324523442612\n",
      "AUC score 0.9225352007835864\n",
      "\n",
      "              precision    recall  f1-score   support\n",
      "\n",
      "    negative       0.93      0.55      0.69     30967\n",
      "    positive       0.89      0.99      0.94    111146\n",
      "\n",
      "   micro avg       0.89      0.89      0.89    142113\n",
      "   macro avg       0.91      0.77      0.82    142113\n",
      "weighted avg       0.90      0.89      0.88    142113\n",
      "\n"
     ]
    }
   ],
   "source": [
    "#RandomForest model on TFIDF + ngram\n",
    "tfidf_n = TfidfVectorizer(ngram_range=(1,2),stop_words = 'english')\n",
    "text_fit(X, y, tfidf_n, RandomForestClassifier())"
   ]
  },
  {
   "cell_type": "markdown",
   "metadata": {},
   "source": [
    "### KNeighbors"
   ]
  },
  {
   "cell_type": "code",
   "execution_count": 32,
   "metadata": {},
   "outputs": [
    {
     "name": "stdout",
     "output_type": "stream",
     "text": [
      "accuracy score:  0.8451091736857289\n",
      "AUC score 0.82035035225051\n",
      "\n",
      "              precision    recall  f1-score   support\n",
      "\n",
      "    negative       0.76      0.42      0.54     30967\n",
      "    positive       0.86      0.96      0.91    111146\n",
      "\n",
      "   micro avg       0.85      0.85      0.85    142113\n",
      "   macro avg       0.81      0.69      0.72    142113\n",
      "weighted avg       0.84      0.85      0.83    142113\n",
      "\n"
     ]
    }
   ],
   "source": [
    "# KNeighbors model with Uni-gram BoW\n",
    "c = CountVectorizer()\n",
    "text_fit(X, y, c, KNeighborsClassifier())"
   ]
  },
  {
   "cell_type": "code",
   "execution_count": 33,
   "metadata": {},
   "outputs": [
    {
     "name": "stdout",
     "output_type": "stream",
     "text": [
      "accuracy score:  0.8414219670262397\n",
      "AUC score 0.7938102860508853\n",
      "\n",
      "              precision    recall  f1-score   support\n",
      "\n",
      "    negative       0.80      0.37      0.50     30967\n",
      "    positive       0.85      0.97      0.91    111146\n",
      "\n",
      "   micro avg       0.84      0.84      0.84    142113\n",
      "   macro avg       0.82      0.67      0.70    142113\n",
      "weighted avg       0.84      0.84      0.82    142113\n",
      "\n"
     ]
    }
   ],
   "source": [
    "# KNeighbors model with n-gram BoW\n",
    "c = CountVectorizer(ngram_range=(1,2))\n",
    "text_fit(X, y, c, KNeighborsClassifier())"
   ]
  },
  {
   "cell_type": "code",
   "execution_count": 34,
   "metadata": {},
   "outputs": [
    {
     "name": "stdout",
     "output_type": "stream",
     "text": [
      "accuracy score:  0.8302899805084686\n",
      "AUC score 0.7128651294616299\n",
      "\n",
      "              precision    recall  f1-score   support\n",
      "\n",
      "    negative       0.89      0.25      0.39     30967\n",
      "    positive       0.83      0.99      0.90    111146\n",
      "\n",
      "   micro avg       0.83      0.83      0.83    142113\n",
      "   macro avg       0.86      0.62      0.65    142113\n",
      "weighted avg       0.84      0.83      0.79    142113\n",
      "\n"
     ]
    }
   ],
   "source": [
    "# KNeighbors model on TFIDF \n",
    "tfidf = TfidfVectorizer()\n",
    "text_fit(X, y, tfidf, KNeighborsClassifier())"
   ]
  },
  {
   "cell_type": "code",
   "execution_count": 35,
   "metadata": {},
   "outputs": [
    {
     "name": "stdout",
     "output_type": "stream",
     "text": [
      "accuracy score:  0.829579278461506\n",
      "AUC score 0.6961031661704881\n",
      "\n",
      "              precision    recall  f1-score   support\n",
      "\n",
      "    negative       1.00      0.22      0.36     30967\n",
      "    positive       0.82      1.00      0.90    111146\n",
      "\n",
      "   micro avg       0.83      0.83      0.83    142113\n",
      "   macro avg       0.91      0.61      0.63    142113\n",
      "weighted avg       0.86      0.83      0.78    142113\n",
      "\n"
     ]
    }
   ],
   "source": [
    "#KNeighbors model on TFIDF + ngram\n",
    "tfidf_n = TfidfVectorizer(ngram_range=(1,2))\n",
    "text_fit(X, y, tfidf_n, KNeighborsClassifier())"
   ]
  },
  {
   "cell_type": "markdown",
   "metadata": {},
   "source": [
    "### Naive bayes MultinomialNB"
   ]
  },
  {
   "cell_type": "code",
   "execution_count": 36,
   "metadata": {},
   "outputs": [
    {
     "name": "stdout",
     "output_type": "stream",
     "text": [
      "accuracy score:  0.8706733374145926\n",
      "AUC score 0.9051106517961698\n",
      "\n",
      "              precision    recall  f1-score   support\n",
      "\n",
      "    negative       0.70      0.72      0.71     30967\n",
      "    positive       0.92      0.91      0.92    111146\n",
      "\n",
      "   micro avg       0.87      0.87      0.87    142113\n",
      "   macro avg       0.81      0.82      0.81    142113\n",
      "weighted avg       0.87      0.87      0.87    142113\n",
      "\n"
     ]
    }
   ],
   "source": [
    "#MultinomialNB model with bow\n",
    "c = CountVectorizer()\n",
    "text_fit(X, y, c, MultinomialNB())"
   ]
  },
  {
   "cell_type": "code",
   "execution_count": 37,
   "metadata": {},
   "outputs": [
    {
     "name": "stdout",
     "output_type": "stream",
     "text": [
      "accuracy score:  0.9193669826124281\n",
      "AUC score 0.948792648424118\n",
      "\n",
      "              precision    recall  f1-score   support\n",
      "\n",
      "    negative       0.83      0.79      0.81     30967\n",
      "    positive       0.94      0.96      0.95    111146\n",
      "\n",
      "   micro avg       0.92      0.92      0.92    142113\n",
      "   macro avg       0.89      0.87      0.88    142113\n",
      "weighted avg       0.92      0.92      0.92    142113\n",
      "\n"
     ]
    }
   ],
   "source": [
    "#MultinomialNB model with n-gram\n",
    "tfidf_n = CountVectorizer(ngram_range=(1,2))\n",
    "text_fit(X, y, tfidf_n, MultinomialNB())\n"
   ]
  },
  {
   "cell_type": "markdown",
   "metadata": {},
   "source": [
    "## Conclusion\n",
    "The best model in this case is Logistic Regression L2 on Bi-gram model, the accuracy score is 94.5%, AUC score is 97%, f1 score is 94%"
   ]
  },
  {
   "cell_type": "code",
   "execution_count": null,
   "metadata": {},
   "outputs": [],
   "source": []
  }
 ],
 "metadata": {
  "kernelspec": {
   "display_name": "Python 3",
   "language": "python",
   "name": "python3"
  },
  "language_info": {
   "codemirror_mode": {
    "name": "ipython",
    "version": 3
   },
   "file_extension": ".py",
   "mimetype": "text/x-python",
   "name": "python",
   "nbconvert_exporter": "python",
   "pygments_lexer": "ipython3",
   "version": "3.7.1"
  }
 },
 "nbformat": 4,
 "nbformat_minor": 2
}
